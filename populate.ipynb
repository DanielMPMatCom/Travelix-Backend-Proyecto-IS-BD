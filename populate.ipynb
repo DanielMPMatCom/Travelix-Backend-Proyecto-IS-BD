{
 "cells": [
  {
   "cell_type": "code",
   "execution_count": 1,
   "metadata": {},
   "outputs": [],
   "source": [
    "from sqlalchemy import create_engine, text\n",
    "from getpass import getpass"
   ]
  },
  {
   "cell_type": "code",
   "execution_count": 2,
   "metadata": {},
   "outputs": [],
   "source": [
    "# Conexión con la base de datos\n",
    "DB_USER = 'postgres'\n",
    "DB_PASSWORD = getpass('Ingrese la contraseña de la base de datos: ')\n",
    "DB_HOST = 'localhost'\n",
    "DB_PORT = '5432'\n",
    "DB_NAME = 'travelixdb'\n",
    "\n",
    "DATABASE_URL = f'postgresql://{DB_USER}:{DB_PASSWORD}@{DB_HOST}:{DB_PORT}/{DB_NAME}'\n",
    "engine = create_engine(DATABASE_URL)"
   ]
  },
  {
   "cell_type": "code",
   "execution_count": 3,
   "metadata": {},
   "outputs": [],
   "source": [
    "# Definir las inserciones SQL\n",
    "agency_inserts = [\n",
    "    \"INSERT INTO agency (name, address, fax_number, email, photo_url) VALUES ('Agencia A', 'Calle 123', 111111, 'agencia_a@example.com', 'url1')\",\n",
    "    \"INSERT INTO agency (name, address, fax_number, email, photo_url) VALUES ('Agencia B', 'Avenida Principal', 222222, 'agencia_b@example.com', 'url2')\",\n",
    "    \"INSERT INTO agency (name, address, fax_number, email, photo_url) VALUES ('Agencia C', 'Plaza Central', 333333, 'agencia_c@example.com', 'url3')\",\n",
    "    \"INSERT INTO agency (name, address, fax_number, email, photo_url) VALUES ('Agencia D', 'Boulevard Central', 444444, 'agencia_d@example.com', 'url4')\",\n",
    "    \"INSERT INTO agency (name, address, fax_number, email, photo_url) VALUES ('Agencia E', 'Calle 456', 555555, 'agencia_e@example.com', 'url5')\",\n",
    "    \"INSERT INTO agency (name, address, fax_number, email, photo_url) VALUES ('Agencia F', 'Avenida 789', 666666, 'agencia_f@example.com', 'url6')\",\n",
    "    \"INSERT INTO agency (name, address, fax_number, email, photo_url) VALUES ('Agencia G', 'Calle 010', 777777, 'agencia_g@example.com', 'url7')\",\n",
    "    \"INSERT INTO agency (name, address, fax_number, email, photo_url) VALUES ('Agencia H', 'Plaza X', 888888, 'agencia_h@example.com', 'url8')\",\n",
    "    \"INSERT INTO agency (name, address, fax_number, email, photo_url) VALUES ('Agencia I', 'Boulevard Y', 999999, 'agencia_i@example.com', 'url9')\",\n",
    "    \"INSERT INTO agency (name, address, fax_number, email, photo_url) VALUES ('Agencia J', 'Calle Z', 101010, 'agencia_j@example.com', 'url10')\",\n",
    "    \"INSERT INTO agency (name, address, fax_number, email, photo_url) VALUES ('Agencia K', 'Avenida Z1', 1111111, 'agencia_k@example.com', 'url11')\",\n",
    "    \"INSERT INTO agency (name, address, fax_number, email, photo_url) VALUES ('Agencia L', 'Calle 2Z', 1212121, 'agencia_l@example.com', 'url12')\",\n",
    "    \"INSERT INTO agency (name, address, fax_number, email, photo_url) VALUES ('Agencia M', 'Plaza Z3', 1313131, 'agencia_m@example.com', 'url13')\",\n",
    "    \"INSERT INTO agency (name, address, fax_number, email, photo_url) VALUES ('Agencia N', 'Boulevard Z4', 1414141, 'agencia_n@example.com', 'url14')\",\n",
    "    \"INSERT INTO agency (name, address, fax_number, email, photo_url) VALUES ('Agencia O', 'Avenida Z5', 1515151, 'agencia_o@example.com', 'url15')\",\n",
    "    \"INSERT INTO agency (name, address, fax_number, email, photo_url) VALUES ('Agencia P', 'Calle Z6', 1616161, 'agencia_p@example.com', 'url16')\",\n",
    "    \"INSERT INTO agency (name, address, fax_number, email, photo_url) VALUES ('Agencia Q', 'Plaza Z7', 1717171, 'agencia_q@example.com', 'url17')\",\n",
    "    \"INSERT INTO agency (name, address, fax_number, email, photo_url) VALUES ('Agencia R', 'Boulevard Z8', 1818181, 'agencia_r@example.com', 'url18')\",\n",
    "    \"INSERT INTO agency (name, address, fax_number, email, photo_url) VALUES ('Agencia S', 'Avenida Z9', 1919191, 'agencia_s@example.com', 'url19')\",\n",
    "    \"INSERT INTO agency (name, address, fax_number, email, photo_url) VALUES ('Agencia T', 'Calle Z10', 2020202, 'agencia_t@example.com', 'url20')\",\n",
    "    \"INSERT INTO agency (name, address, fax_number, email, photo_url) VALUES ('Agencia U', 'Plaza Z11', 2121212, 'agencia_u@example.com', 'url21')\",\n",
    "    \"INSERT INTO agency (name, address, fax_number, email, photo_url) VALUES ('Agencia V', 'Boulevard Z12', 2222222, 'agencia_v@example.com', 'url22')\",\n",
    "    \"INSERT INTO agency (name, address, fax_number, email, photo_url) VALUES ('Agencia W', 'Avenida Z13', 2323232, 'agencia_w@example.com', 'url23')\",\n",
    "    \"INSERT INTO agency (name, address, fax_number, email, photo_url) VALUES ('Agencia X', 'Calle Z14', 2424242, 'agencia_x@example.com', 'url24')\",\n",
    "    \"INSERT INTO agency (name, address, fax_number, email, photo_url) VALUES ('Agencia Y', 'Plaza Z15', 2525252, 'agencia_y@example.com', 'url25')\",\n",
    "    \"INSERT INTO agency (name, address, fax_number, email, photo_url) VALUES ('Agencia Z', 'Boulevard Z16', 2626262, 'agencia_z@example.com', 'url26')\",\n",
    "    \"INSERT INTO agency (name, address, fax_number, email, photo_url) VALUES ('Agencia AA', 'Avenida Z17', 2727272, 'agencia_aa@example.com', 'url27')\",\n",
    "    \"INSERT INTO agency (name, address, fax_number, email, photo_url) VALUES ('Agencia BB', 'Calle Z18', 2828282, 'agencia_bb@example.com', 'url28')\",\n",
    "    \"INSERT INTO agency (name, address, fax_number, email, photo_url) VALUES ('Agencia CC', 'Plaza Z19', 2929292, 'agencia_cc@example.com', 'url29')\",\n",
    "    \"INSERT INTO agency (name, address, fax_number, email, photo_url) VALUES ('Agencia DD', 'Boulevard Z20', 3030303, 'agencia_dd@example.com', 'url30')\"\n",
    "]\n",
    "\n",
    "\n"
   ]
  },
  {
   "cell_type": "code",
   "execution_count": 5,
   "metadata": {},
   "outputs": [
    {
     "name": "stdout",
     "output_type": "stream",
     "text": [
      "Se han insertado 30 registros en la tabla AgencyModel utilizando SQL.\n"
     ]
    }
   ],
   "source": [
    "# Ejecutar las inserciones SQL\n",
    "with engine.connect() as connection:\n",
    "    for sql_insert in agency_inserts:\n",
    "        connection.execute(text(sql_insert))\n",
    "    # Confirmar la transacción al finalizar las inserciones\n",
    "    connection.commit()\n",
    "\n",
    "print(\"Se han insertado 30 registros en la tabla AgencyModel utilizando SQL.\")\n"
   ]
  },
  {
   "cell_type": "code",
   "execution_count": 9,
   "metadata": {},
   "outputs": [],
   "source": [
    "excursion_inserts = [\n",
    "       \"INSERT INTO excursion (departure_day, departure_hour, departure_place, arrival_day, arrival_hour, arrival_place, price, photo_url) VALUES ('Lunes', '08:00:00', 'Playa A', 'Lunes', '18:00:00', 'Montaña B', 100.00, 'https://example.com/photo1.jpg')\",\n",
    "       \"INSERT INTO excursion (departure_day, departure_hour, departure_place, arrival_day, arrival_hour, arrival_place, price, photo_url) VALUES ('Martes', '09:00:00', 'Bosque C', 'Martes', '17:00:00', 'Ciudad D', 120.00, 'https://example.com/photo2.jpg')\",\n",
    "       \"INSERT INTO excursion (departure_day, departure_hour, departure_place, arrival_day, arrival_hour, arrival_place, price, photo_url) VALUES ('Miércoles', '10:00:00', 'Lago E', 'Miércoles', '16:00:00', 'Pueblo F', 110.00, 'https://example.com/photo3.jpg')\",\n",
    "       \"INSERT INTO excursion (departure_day, departure_hour, departure_place, arrival_day, arrival_hour, arrival_place, price, photo_url) VALUES ('Jueves', '11:00:00', 'Cascada G', 'Jueves', '15:00:00', 'Granja H', 130.00, 'https://example.com/photo4.jpg')\",\n",
    "       \"INSERT INTO excursion (departure_day, departure_hour, departure_place, arrival_day, arrival_hour, arrival_place, price, photo_url) VALUES ('Viernes', '12:00:00', 'Parque I', 'Viernes', '14:00:00', 'Reserva J', 90.00, 'https://example.com/photo5.jpg')\",\n",
    "       \"INSERT INTO excursion (departure_day, departure_hour, departure_place, arrival_day, arrival_hour, arrival_place, price, photo_url) VALUES ('Sábado', '13:00:00', 'Playa K', 'Sábado', '13:00:00', 'Montaña L', 150.00, 'https://example.com/photo6.jpg')\",\n",
    "       \"INSERT INTO excursion (departure_day, departure_hour, departure_place, arrival_day, arrival_hour, arrival_place, price, photo_url) VALUES ('Domingo', '14:00:00', 'Bosque M', 'Domingo', '12:00:00', 'Ciudad N', 95.00, 'https://example.com/photo7.jpg')\",\n",
    "       \"INSERT INTO excursion (departure_day, departure_hour, departure_place, arrival_day, arrival_hour, arrival_place, price, photo_url) VALUES ('Lunes', '15:00:00', 'Lago O', 'Lunes', '11:00:00', 'Pueblo P', 140.00, 'https://example.com/photo8.jpg')\",\n",
    "       \"INSERT INTO excursion (departure_day, departure_hour, departure_place, arrival_day, arrival_hour, arrival_place, price, photo_url) VALUES ('Martes', '16:00:00', 'Cascada Q', 'Martes', '10:00:00', 'Granja R', 105.00, 'https://example.com/photo9.jpg')\",\n",
    "       \"INSERT INTO excursion (departure_day, departure_hour, departure_place, arrival_day, arrival_hour, arrival_place, price, photo_url) VALUES ('Miércoles', '17:00:00', 'Parque S', 'Miércoles', '09:00:00', 'Reserva T', 160.00, 'https://example.com/photo10.jpg')\",\n",
    "       \"INSERT INTO excursion (departure_day, departure_hour, departure_place, arrival_day, arrival_hour, arrival_place, price, photo_url) VALUES ('Jueves', '18:00:00', 'Playa U', 'Jueves', '08:00:00', 'Montaña V', 85.00, 'https://example.com/photo11.jpg')\",\n",
    "       \"INSERT INTO excursion (departure_day, departure_hour, departure_place, arrival_day, arrival_hour, arrival_place, price, photo_url) VALUES ('Viernes', '19:00:00', 'Bosque W', 'Viernes', '07:00:00', 'Ciudad X', 170.00, 'https://example.com/photo12.jpg')\",\n",
    "       \"INSERT INTO excursion (departure_day, departure_hour, departure_place, arrival_day, arrival_hour, arrival_place, price, photo_url) VALUES ('Sábado', '20:00:00', 'Lago Y', 'Sábado', '06:00:00', 'Pueblo Z', 125.00, 'https://example.com/photo13.jpg')\",\n",
    "       \"INSERT INTO excursion (departure_day, departure_hour, departure_place, arrival_day, arrival_hour, arrival_place, price, photo_url) VALUES ('Domingo', '21:00:00', 'Cascada AA', 'Domingo', '05:00:00', 'Granja BB', 180.00, 'https://example.com/photo14.jpg')\",\n",
    "       \"INSERT INTO excursion (departure_day, departure_hour, departure_place, arrival_day, arrival_hour, arrival_place, price, photo_url) VALUES ('Lunes', '22:00:00', 'Parque CC', 'Lunes', '04:00:00', 'Reserva DD', 80.00, 'https://example.com/photo15.jpg')\",\n",
    "       \"INSERT INTO excursion (departure_day, departure_hour, departure_place, arrival_day, arrival_hour, arrival_place, price, photo_url) VALUES ('Martes', '23:00:00', 'Playa EE', 'Martes', '03:00:00', 'Montaña FF', 190.00, 'https://example.com/photo16.jpg')\",\n",
    "       \"INSERT INTO excursion (departure_day, departure_hour, departure_place, arrival_day, arrival_hour, arrival_place, price, photo_url) VALUES ('Miércoles', '00:00:00', 'Bosque GG', 'Miércoles', '02:00:00', 'Ciudad HH', 100.00, 'https://example.com/photo17.jpg')\",\n",
    "       \"INSERT INTO excursion (departure_day, departure_hour, departure_place, arrival_day, arrival_hour, arrival_place, price, photo_url) VALUES ('Jueves', '01:00:00', 'Lago II', 'Jueves', '01:00:00', 'Pueblo JJ', 200.00, 'https://example.com/photo18.jpg')\",\n",
    "       \"INSERT INTO excursion (departure_day, departure_hour, departure_place, arrival_day, arrival_hour, arrival_place, price, photo_url) VALUES ('Viernes', '02:00:00', 'Cascada KK', 'Viernes', '23:00:00', 'Granja LL', 75.00, 'https://example.com/photo19.jpg')\",\n",
    "       \"INSERT INTO excursion (departure_day, departure_hour, departure_place, arrival_day, arrival_hour, arrival_place, price, photo_url) VALUES ('Sábado', '03:00:00', 'Parque MM', 'Sábado', '22:00:00', 'Reserva NN', 210.00, 'https://example.com/photo20.jpg')\",\n",
    "       \"INSERT INTO excursion (departure_day, departure_hour, departure_place, arrival_day, arrival_hour, arrival_place, price, photo_url) VALUES ('Domingo', '04:00:00', 'Playa OO', 'Domingo', '21:00:00', 'Montaña PP', 110.00, 'https://example.com/photo21.jpg')\",\n",
    "       \"INSERT INTO excursion (departure_day, departure_hour, departure_place, arrival_day, arrival_hour, arrival_place, price, photo_url) VALUES ('Lunes', '05:00:00', 'Bosque QQ', 'Lunes', '20:00:00', 'Ciudad RR', 220.00, 'https://example.com/photo22.jpg')\",\n",
    "       \"INSERT INTO excursion (departure_day, departure_hour, departure_place, arrival_day, arrival_hour, arrival_place, price, photo_url) VALUES ('Martes', '06:00:00', 'Lago SS', 'Martes', '19:00:00', 'Pueblo TT', 95.00, 'https://example.com/photo23.jpg')\",\n",
    "       \"INSERT INTO excursion (departure_day, departure_hour, departure_place, arrival_day, arrival_hour, arrival_place, price, photo_url) VALUES ('Miércoles', '07:00:00', 'Cascada UU', 'Miércoles', '18:00:00', 'Granja VV', 230.00, 'https://example.com/photo24.jpg')\",\n",
    "       \"INSERT INTO excursion (departure_day, departure_hour, departure_place, arrival_day, arrival_hour, arrival_place, price, photo_url) VALUES ('Jueves', '08:00:00', 'Parque WW', 'Jueves', '17:00:00', 'Reserva XX', 105.00, 'https://example.com/photo25.jpg')\",\n",
    "       \"INSERT INTO excursion (departure_day, departure_hour, departure_place, arrival_day, arrival_hour, arrival_place, price, photo_url) VALUES ('Viernes', '09:00:00', 'Playa YY', 'Viernes', '16:00:00', 'Montaña ZZ', 240.00, 'https://example.com/photo26.jpg')\",\n",
    "       \"INSERT INTO excursion (departure_day, departure_hour, departure_place, arrival_day, arrival_hour, arrival_place, price, photo_url) VALUES ('Sábado', '10:00:00', 'Bosque AAA', 'Sábado', '15:00:00', 'Ciudad BBB', 125.00, 'https://example.com/photo27.jpg')\",\n",
    "       \"INSERT INTO excursion (departure_day, departure_hour, departure_place, arrival_day, arrival_hour, arrival_place, price, photo_url) VALUES ('Domingo', '11:00:00', 'Lago CCC', 'Domingo', '14:00:00', 'Pueblo DDD', 260.00, 'https://example.com/photo28.jpg')\",\n",
    "       \"INSERT INTO excursion (departure_day, departure_hour, departure_place, arrival_day, arrival_hour, arrival_place, price, photo_url) VALUES ('Lunes', '12:00:00', 'Cascada EEE', 'Lunes', '13:00:00', 'Granja FFF', 135.00, 'https://example.com/photo29.jpg')\",\n",
    "       \"INSERT INTO excursion (departure_day, departure_hour, departure_place, arrival_day, arrival_hour, arrival_place, price, photo_url) VALUES ('Martes', '13:00:00', 'Parque GGG', 'Martes', '12:00:00', 'Reserva HHH', 270.00, 'https://example.com/photo30.jpg')\"]\n"
   ]
  },
  {
   "cell_type": "code",
   "execution_count": 10,
   "metadata": {},
   "outputs": [
    {
     "name": "stdout",
     "output_type": "stream",
     "text": [
      "Se han insertado 30 registros en la tabla ExcursionModel utilizando SQL.\n"
     ]
    }
   ],
   "source": [
    "# Ejecutar las inserciones SQL\n",
    "with engine.connect() as connection:\n",
    "    for sql_insert in excursion_inserts:\n",
    "        connection.execute(text(sql_insert))\n",
    "    # Confirmar la transacción al finalizar las inserciones\n",
    "    connection.commit()\n",
    "\n",
    "print(\"Se han insertado 30 registros en la tabla ExcursionModel utilizando SQL.\")\n"
   ]
  },
  {
   "cell_type": "code",
   "execution_count": 13,
   "metadata": {},
   "outputs": [],
   "source": [
    "hotel_inserts = [\n",
    "    \"INSERT INTO hotel (name, address, category, photo_url) VALUES ('Hotel A', 'Calle 123', 3, 'https://example.com/hotel1.jpg')\",\n",
    "    \"INSERT INTO hotel (name, address, category, photo_url) VALUES ('Hotel B', 'Avenida Principal', 4, 'https://example.com/hotel2.jpg')\",\n",
    "    \"INSERT INTO hotel (name, address, category, photo_url) VALUES ('Hotel C', 'Plaza Central', 2, 'https://example.com/hotel3.jpg')\",\n",
    "    \"INSERT INTO hotel (name, address, category, photo_url) VALUES ('Hotel D', 'Boulevard Central', 5, 'https://example.com/hotel4.jpg')\",\n",
    "    \"INSERT INTO hotel (name, address, category, photo_url) VALUES ('Hotel E', 'Calle 456', 3, 'https://example.com/hotel5.jpg')\",\n",
    "    \"INSERT INTO hotel (name, address, category, photo_url) VALUES ('Hotel F', 'Avenida 789', 4, 'https://example.com/hotel6.jpg')\",\n",
    "    \"INSERT INTO hotel (name, address, category, photo_url) VALUES ('Hotel G', 'Calle 010', 2, 'https://example.com/hotel7.jpg')\",\n",
    "    \"INSERT INTO hotel (name, address, category, photo_url) VALUES ('Hotel H', 'Plaza X', 5, 'https://example.com/hotel8.jpg')\",\n",
    "    \"INSERT INTO hotel (name, address, category, photo_url) VALUES ('Hotel I', 'Boulevard Y', 3, 'https://example.com/hotel9.jpg')\",\n",
    "    \"INSERT INTO hotel (name, address, category, photo_url) VALUES ('Hotel J', 'Calle Z', 4, 'https://example.com/hotel10.jpg')\",\n",
    "    \"INSERT INTO hotel (name, address, category, photo_url) VALUES ('Hotel K', 'Avenida Z1', 2, 'https://example.com/hotel11.jpg')\",\n",
    "    \"INSERT INTO hotel (name, address, category, photo_url) VALUES ('Hotel L', 'Calle 2Z', 5, 'https://example.com/hotel12.jpg')\",\n",
    "    \"INSERT INTO hotel (name, address, category, photo_url) VALUES ('Hotel M', 'Plaza Z3', 3, 'https://example.com/hotel13.jpg')\",\n",
    "    \"INSERT INTO hotel (name, address, category, photo_url) VALUES ('Hotel N', 'Boulevard Z4', 4, 'https://example.com/hotel14.jpg')\",\n",
    "    \"INSERT INTO hotel (name, address, category, photo_url) VALUES ('Hotel O', 'Avenida Z5', 2, 'https://example.com/hotel15.jpg')\",\n",
    "    \"INSERT INTO hotel (name, address, category, photo_url) VALUES ('Hotel P', 'Calle Z6', 5, 'https://example.com/hotel16.jpg')\",\n",
    "    \"INSERT INTO hotel (name, address, category, photo_url) VALUES ('Hotel Q', 'Plaza Z7', 3, 'https://example.com/hotel17.jpg')\",\n",
    "    \"INSERT INTO hotel (name, address, category, photo_url) VALUES ('Hotel R', 'Boulevard Z8', 4, 'https://example.com/hotel18.jpg')\",\n",
    "    \"INSERT INTO hotel (name, address, category, photo_url) VALUES ('Hotel S', 'Avenida Z9', 2, 'https://example.com/hotel19.jpg')\",\n",
    "    \"INSERT INTO hotel (name, address, category, photo_url) VALUES ('Hotel T', 'Calle Z10', 5, 'https://example.com/hotel20.jpg')\",\n",
    "    \"INSERT INTO hotel (name, address, category, photo_url) VALUES ('Hotel U', 'Plaza Z11', 3, 'https://example.com/hotel21.jpg')\",\n",
    "    \"INSERT INTO hotel (name, address, category, photo_url) VALUES ('Hotel V', 'Boulevard Z12', 4, 'https://example.com/hotel22.jpg')\",\n",
    "    \"INSERT INTO hotel (name, address, category, photo_url) VALUES ('Hotel W', 'Avenida Z13', 2, 'https://example.com/hotel23.jpg')\",\n",
    "    \"INSERT INTO hotel (name, address, category, photo_url) VALUES ('Hotel X', 'Calle Z14', 5, 'https://example.com/hotel24.jpg')\",\n",
    "    \"INSERT INTO hotel (name, address, category, photo_url) VALUES ('Hotel Y', 'Plaza Z15', 3, 'https://example.com/hotel25.jpg')\",\n",
    "    \"INSERT INTO hotel (name, address, category, photo_url) VALUES ('Hotel Z', 'Boulevard Z16', 4, 'https://example.com/hotel26.jpg')\",\n",
    "    \"INSERT INTO hotel (name, address, category, photo_url) VALUES ('Hotel AA', 'Avenida Z17', 2, 'https://example.com/hotel27.jpg')\",\n",
    "    \"INSERT INTO hotel (name, address, category, photo_url) VALUES ('Hotel BB', 'Calle Z18', 5, 'https://example.com/hotel28.jpg')\",\n",
    "    \"INSERT INTO hotel (name, address, category, photo_url) VALUES ('Hotel CC', 'Plaza Z19', 3, 'https://example.com/hotel29.jpg')\",\n",
    "    \"INSERT INTO hotel (name, address, category, photo_url) VALUES ('Hotel DD', 'Boulevard Z20', 4, 'https://example.com/hotel30.jpg')\"\n",
    "]\n"
   ]
  },
  {
   "cell_type": "code",
   "execution_count": 14,
   "metadata": {},
   "outputs": [
    {
     "name": "stdout",
     "output_type": "stream",
     "text": [
      "Se han insertado 30 registros en la tabla ExcursionModel utilizando SQL.\n"
     ]
    }
   ],
   "source": [
    "# Ejecutar las inserciones SQL\n",
    "with engine.connect() as connection:\n",
    "    for sql_insert in hotel_inserts:\n",
    "        connection.execute(text(sql_insert))\n",
    "    # Confirmar la transacción al finalizar las inserciones\n",
    "    connection.commit()\n",
    "\n",
    "print(\"Se han insertado 30 registros en la tabla HotelModel utilizando SQL.\")\n"
   ]
  },
  {
   "cell_type": "code",
   "execution_count": 15,
   "metadata": {},
   "outputs": [],
   "source": [
    "facility_inserts = [\n",
    "    \"INSERT INTO facility (description) VALUES ('Piscina olímpica')\",\n",
    "    \"INSERT INTO facility (description) VALUES ('Gimnasio')\",\n",
    "    \"INSERT INTO facility (description) VALUES ('Spa')\",\n",
    "    \"INSERT INTO facility (description) VALUES ('Restaurante')\",\n",
    "    \"INSERT INTO facility (description) VALUES ('Salón de eventos')\",\n",
    "    \"INSERT INTO facility (description) VALUES ('Bar')\",\n",
    "    \"INSERT INTO facility (description) VALUES ('Centro de negocios')\",\n",
    "    \"INSERT INTO facility (description) VALUES ('Servicio de habitaciones 24 horas')\",\n",
    "    \"INSERT INTO facility (description) VALUES ('Wifi gratuito')\",\n",
    "    \"INSERT INTO facility (description) VALUES ('Estacionamiento')\",\n",
    "    \"INSERT INTO facility (description) VALUES ('Recepción 24 horas')\",\n",
    "    \"INSERT INTO facility (description) VALUES ('Consigna de equipaje')\",\n",
    "    \"INSERT INTO facility (description) VALUES ('Servicio de lavandería')\",\n",
    "    \"INSERT INTO facility (description) VALUES ('Caja fuerte en la habitación')\",\n",
    "    \"INSERT INTO facility (description) VALUES ('Transporte al aeropuerto')\",\n",
    "    \"INSERT INTO facility (description) VALUES ('Alquiler de bicicletas')\",\n",
    "    \"INSERT INTO facility (description) VALUES ('Jardines')\",\n",
    "    \"INSERT INTO facility (description) VALUES ('Área de juegos para niños')\",\n",
    "    \"INSERT INTO facility (description) VALUES ('Salón de belleza')\",\n",
    "    \"INSERT INTO facility (description) VALUES ('Jacuzzi')\",\n",
    "    \"INSERT INTO facility (description) VALUES ('Sauna')\",\n",
    "    \"INSERT INTO facility (description) VALUES ('Sala de juegos')\",\n",
    "    \"INSERT INTO facility (description) VALUES ('Tienda de regalos')\",\n",
    "    \"INSERT INTO facility (description) VALUES ('Ascensor')\",\n",
    "    \"INSERT INTO facility (description) VALUES ('Acceso para personas con movilidad reducida')\",\n",
    "    \"INSERT INTO facility (description) VALUES ('Servicio de despertador')\",\n",
    "    \"INSERT INTO facility (description) VALUES ('Biblioteca')\",\n",
    "    \"INSERT INTO facility (description) VALUES ('Mascotas permitidas')\",\n",
    "    \"INSERT INTO facility (description) VALUES ('Guardería')\",\n",
    "    \"INSERT INTO facility (description) VALUES ('Sala de TV compartida')\"\n",
    "]\n"
   ]
  },
  {
   "cell_type": "code",
   "execution_count": 16,
   "metadata": {},
   "outputs": [
    {
     "name": "stdout",
     "output_type": "stream",
     "text": [
      "Se han insertado 30 registros en la tabla ExcursionModel utilizando SQL.\n"
     ]
    }
   ],
   "source": [
    "# Ejecutar las inserciones SQL\n",
    "with engine.connect() as connection:\n",
    "    for sql_insert in facility_inserts:\n",
    "        connection.execute(text(sql_insert))\n",
    "    # Confirmar la transacción al finalizar las inserciones\n",
    "    connection.commit()\n",
    "\n",
    "print(\"Se han insertado 30 registros en la tabla FacilityModel utilizando SQL.\")\n"
   ]
  },
  {
   "cell_type": "code",
   "execution_count": 17,
   "metadata": {},
   "outputs": [],
   "source": [
    "tourist_type_inserts = [\n",
    "    \"INSERT INTO tourist_type (name) VALUES ('Turista')\",\n",
    "    \"INSERT INTO tourist_type (name) VALUES ('Aventurero')\",\n",
    "    \"INSERT INTO tourist_type (name) VALUES ('Viajero cultural')\",\n",
    "    \"INSERT INTO tourist_type (name) VALUES ('Mochilero')\",\n",
    "    \"INSERT INTO tourist_type (name) VALUES ('Ecoturista')\",\n",
    "    \"INSERT INTO tourist_type (name) VALUES ('Gastrónomo')\",\n",
    "    \"INSERT INTO tourist_type (name) VALUES ('Relax')\",\n",
    "    \"INSERT INTO tourist_type (name) VALUES ('Familiar')\",\n",
    "    \"INSERT INTO tourist_type (name) VALUES ('Deportista')\",\n",
    "    \"INSERT INTO tourist_type (name) VALUES ('Estudiante')\",\n",
    "    \"INSERT INTO tourist_type (name) VALUES ('Negocios')\",\n",
    "    \"INSERT INTO tourist_type (name) VALUES ('Lujo')\",\n",
    "    \"INSERT INTO tourist_type (name) VALUES ('Aventurero extremo')\",\n",
    "    \"INSERT INTO tourist_type (name) VALUES ('Amante de la naturaleza')\",\n",
    "    \"INSERT INTO tourist_type (name) VALUES ('Amante de la historia')\",\n",
    "    \"INSERT INTO tourist_type (name) VALUES ('Música y arte')\",\n",
    "    \"INSERT INTO tourist_type (name) VALUES ('Gastronomía internacional')\",\n",
    "    \"INSERT INTO tourist_type (name) VALUES ('Relax y spa')\",\n",
    "    \"INSERT INTO tourist_type (name) VALUES ('Viaje en pareja')\",\n",
    "    \"INSERT INTO tourist_type (name) VALUES ('Viaje en grupo')\",\n",
    "    \"INSERT INTO tourist_type (name) VALUES ('Viaje en solitario')\",\n",
    "    \"INSERT INTO tourist_type (name) VALUES ('Aventura acuática')\",\n",
    "    \"INSERT INTO tourist_type (name) VALUES ('Aventura terrestre')\",\n",
    "    \"INSERT INTO tourist_type (name) VALUES ('Aventura aérea')\",\n",
    "    \"INSERT INTO tourist_type (name) VALUES ('Aventura subterránea')\",\n",
    "    \"INSERT INTO tourist_type (name) VALUES ('Caza de auroras boreales')\",\n",
    "    \"INSERT INTO tourist_type (name) VALUES ('Viaje de montaña')\",\n",
    "    \"INSERT INTO tourist_type (name) VALUES ('Turismo de compras')\",\n",
    "    \"INSERT INTO tourist_type (name) VALUES ('Turismo religioso')\",\n",
    "    \"INSERT INTO tourist_type (name) VALUES ('Turismo de crucero')\"\n",
    "]\n"
   ]
  },
  {
   "cell_type": "code",
   "execution_count": 18,
   "metadata": {},
   "outputs": [
    {
     "name": "stdout",
     "output_type": "stream",
     "text": [
      "Se han insertado 30 registros en la tabla ExcursionModel utilizando SQL.\n"
     ]
    }
   ],
   "source": [
    "# Ejecutar las inserciones SQL\n",
    "with engine.connect() as connection:\n",
    "    for sql_insert in tourist_type_inserts:\n",
    "        connection.execute(text(sql_insert))\n",
    "    # Confirmar la transacción al finalizar las inserciones\n",
    "    connection.commit()\n",
    "\n",
    "print(\"Se han insertado 30 registros en la tabla TouristTypeModel utilizando SQL.\")\n"
   ]
  }
 ],
 "metadata": {
  "kernelspec": {
   "display_name": "Python 3",
   "language": "python",
   "name": "python3"
  },
  "language_info": {
   "codemirror_mode": {
    "name": "ipython",
    "version": 3
   },
   "file_extension": ".py",
   "mimetype": "text/x-python",
   "name": "python",
   "nbconvert_exporter": "python",
   "pygments_lexer": "ipython3",
   "version": "3.8.10"
  }
 },
 "nbformat": 4,
 "nbformat_minor": 2
}
