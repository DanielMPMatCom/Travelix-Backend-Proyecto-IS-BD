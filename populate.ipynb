{
 "cells": [
  {
   "cell_type": "code",
   "execution_count": 1,
   "metadata": {},
   "outputs": [],
   "source": [
    "from sqlalchemy import create_engine, text\n",
    "from getpass import getpass"
   ]
  },
  {
   "cell_type": "code",
   "execution_count": 2,
   "metadata": {},
   "outputs": [],
   "source": [
    "# Conexión con la base de datos\n",
    "DB_USER = 'postgres'\n",
    "DB_PASSWORD = getpass('Ingrese la contraseña de la base de datos: ')\n",
    "DB_HOST = 'localhost'\n",
    "DB_PORT = '5432'\n",
    "DB_NAME = 'travelixdb'\n",
    "\n",
    "DATABASE_URL = f'postgresql://{DB_USER}:{DB_PASSWORD}@{DB_HOST}:{DB_PORT}/{DB_NAME}'\n",
    "engine = create_engine(DATABASE_URL)"
   ]
  },
  {
   "cell_type": "code",
   "execution_count": 3,
   "metadata": {},
   "outputs": [],
   "source": [
    "# Definir las inserciones SQL\n",
    "agency_inserts = [\n",
    "    \"INSERT INTO agency (id, name, address, fax_number, email, photo_url) VALUES (1,'Agencia A', 'Calle 123', 111111, 'agencia_a@example.com', 'https://th.bing.com/th/id/R.2b24b13bba9dc7e68513e219f2106049?rik=ThYqzkQqyz6H3A&pid=ImgRaw&r=0')\",\n",
    "    \"INSERT INTO agency (id, name, address, fax_number, email, photo_url) VALUES (2,'Agencia B', 'Avenida Principal', 222222, 'agencia_b@example.com', 'https://th.bing.com/th/id/OIP.eTTKaQ2KMDVo33ifs-3qmAHaEt?rs=1&pid=ImgDetMain')\",\n",
    "    \"INSERT INTO agency (id, name, address, fax_number, email, photo_url) VALUES (3,'Agencia C', 'Plaza Central', 333333, 'agencia_c@example.com', 'https://th.bing.com/th/id/OIP.Jwg1sgBpIR13PQGkiWlmSQHaFA?rs=1&pid=ImgDetMain')\",\n",
    "    \"INSERT INTO agency (id, name, address, fax_number, email, photo_url) VALUES (4,'Agencia D', 'Boulevard Central', 444444, 'agencia_d@example.com', 'https://th.bing.com/th/id/OIP.QeOy9E7_dPp4bIm8Mzr_HQHaHa?rs=1&pid=ImgDetMain')\",\n",
    "    \"INSERT INTO agency (id, name, address, fax_number, email, photo_url) VALUES (5,'Agencia E', 'Calle 456', 555555, 'agencia_e@example.com', 'https://th.bing.com/th/id/OIP.kzdwdsx3AqfHvHQBvOIKUQHaHa?rs=1&pid=ImgDetMain')\",\n",
    "    \"INSERT INTO agency (id, name, address, fax_number, email, photo_url) VALUES (6,'Agencia F', 'Avenida 789', 666666, 'agencia_f@example.com', 'https://th.bing.com/th/id/OIP.xjrunA2gw0AujBLO8HCjJgHaHg?w=1975&h=2000&rs=1&pid=ImgDetMain')\",\n",
    "    \"INSERT INTO agency (id, name, address, fax_number, email, photo_url) VALUES (7,'Agencia G', 'Calle 010', 777777, 'agencia_g@example.com', 'https://th.bing.com/th/id/OIP.xXoTVgLQMDUh58kejaszPQHaHa?rs=1&pid=ImgDetMain')\",\n",
    "    \"INSERT INTO agency (id, name, address, fax_number, email, photo_url) VALUES (8,'Agencia H', 'Plaza X', 888888, 'agencia_h@example.com', 'https://www.vyootrip.com/wp-content/uploads/2021/09/razones-agencia-de-viajes-corporativos.jpeg')\",\n",
    "    \"INSERT INTO agency (id, name, address, fax_number, email, photo_url) VALUES (9,'Agencia I', 'Boulevard Y', 999999, 'agencia_i@example.com', 'https://www.vyootrip.com/wp-content/uploads/2021/09/razones-agencia-de-viajes-corporativos.jpeg')\",\n",
    "    \"INSERT INTO agency (id, name, address, fax_number, email, photo_url) VALUES (10,'Agencia J', 'Calle Z', 101010, 'agencia_j@example.com', 'https://www.callbell.eu/wp-content/uploads/2023/04/Travel-1.jpg')\",\n",
    "    \"INSERT INTO agency (id, name, address, fax_number, email, photo_url) VALUES (11,'Agencia K', 'Avenida Z1', 1111111, 'agencia_k@example.com', 'https://encrypted-tbn0.gstatic.com/images?q=tbn:ANd9GcS8KR0_4Avjc4jm5pMvQaww1IWWwTvZx6jAxg&usqp=CAU')\",\n",
    "    \"INSERT INTO agency (id, name, address, fax_number, email, photo_url) VALUES (12,'Agencia L', 'Calle 2Z', 1212121, 'agencia_l@example.com', 'https://columnavip.com/wp-content/uploads/2021/05/agencias-de-viaje.jpg')\",\n",
    "    \"INSERT INTO agency (id, name, address, fax_number, email, photo_url) VALUES (13,'Agencia M', 'Plaza Z3', 1313131, 'agencia_m@example.com', 'https://static.vecteezy.com/system/resources/thumbnails/005/183/355/small/travel-agency-logo-template-holiday-logo-template-beach-logo-concept-vector.jpg')\",\n",
    "    \"INSERT INTO agency (id, name, address, fax_number, email, photo_url) VALUES (14,'Agencia N', 'Boulevard Z4', 1414141, 'agencia_n@example.com', 'https://img.freepik.com/vector-gratis/logotipo-viaje-detallado_23-2148627268.jpg')\",\n",
    "    \"INSERT INTO agency (id, name, address, fax_number, email, photo_url) VALUES (15,'Agencia O', 'Avenida Z5', 1515151, 'agencia_o@example.com', 'https://www.zarla.com/images/zarla-escpate-1x1-2400x2400-20210603-h6qr8xphp7xfp9vt4pwc.png?crop=1:1,smart&width=250&dpr=2')\",\n",
    "    \"INSERT INTO agency (id, name, address, fax_number, email, photo_url) VALUES (16,'Agencia P', 'Calle Z6', 1616161, 'agencia_p@example.com', 'https://content.wepik.com/statics/26269147/preview-page0.jpg')\",\n",
    "    \"INSERT INTO agency (id, name, address, fax_number, email, photo_url) VALUES (17,'Agencia Q', 'Plaza Z7', 1717171, 'agencia_q@example.com', 'https://cms-assets.tutsplus.com/uploads/users/2659/posts/32230/image/trip-planner-logo-maker-with-airplane-clipart-2504i.jpg')\",\n",
    "    \"INSERT INTO agency (id, name, address, fax_number, email, photo_url) VALUES (18,'Agencia R', 'Boulevard Z8', 1818181, 'agencia_r@example.com', 'https://us.123rf.com/450wm/butenkow/butenkow1612/butenkow161204046/67428174-plantilla-de-viaje-del-dise%C3%B1o-del-logotipo-ilustraci%C3%B3n-del-vector-del-icono.jpg?ver=6')\",\n",
    "    \"INSERT INTO agency (id, name, address, fax_number, email, photo_url) VALUES (19,'Agencia S', 'Avenida Z9', 1919191, 'agencia_s@example.com', 'https://us.123rf.com/450wm/doublerdesign/doublerdesign2112/doublerdesign211200069/178873937-avi%C3%B3n-y-globo-terr%C3%A1queo-para-el-dise%C3%B1o-del-logotipo-vectorial-de-la-empresa-de-viajes.jpg?ver=6')\",\n",
    "    \"INSERT INTO agency (id, name, address, fax_number, email, photo_url) VALUES (20,'Agencia T', 'Calle Z10', 2020202, 'agencia_t@example.com', 'https://i.pinimg.com/originals/70/42/f2/7042f2ad1e10cc2c8da6101962f1f59a.jpg')\",\n",
    "    \"INSERT INTO agency (id, name, address, fax_number, email, photo_url) VALUES (21,'Agencia U', 'Plaza Z11', 2121212, 'agencia_u@example.com', 'https://i.pinimg.com/736x/75/1f/1e/751f1e30cdbab7649072b7c9f6b103ec.jpg')\",\n",
    "    \"INSERT INTO agency (id, name, address, fax_number, email, photo_url) VALUES (22,'Agencia V', 'Boulevard Z12', 2222222, 'agencia_v@example.com', 'https://cms-assets.tutsplus.com/uploads/users/2659/posts/32230/image/custom-logo-maker-for-travel-agency-with-vacation-resorts-1202e--2.jpg')\",\n",
    "    \"INSERT INTO agency (id, name, address, fax_number, email, photo_url) VALUES (23,'Agencia W', 'Avenida Z13', 2323232, 'agencia_w@example.com', 'https://us.123rf.com/450wm/ikalvi/ikalvi1712/ikalvi171200406/92424242-logotipo-para-la-agencia-de-viajes-tropical-resort-beach-hotel-spa-s%C3%ADmbolo-de-vacaciones-de-verano.jpg')\",\n",
    "    \"INSERT INTO agency (id, name, address, fax_number, email, photo_url) VALUES (24,'Agencia X', 'Calle Z14', 2424242, 'agencia_x@example.com', 'https://png.pngtree.com/png-clipart/20200727/original/pngtree-travel-logo-airplane-design-airplane-tickets-travel-agencies-png-image_5221805.jpg')\",\n",
    "    \"INSERT INTO agency (id, name, address, fax_number, email, photo_url) VALUES (25,'Agencia Y', 'Plaza Z15', 2525252, 'agencia_y@example.com', 'https://d1csarkz8obe9u.cloudfront.net/posterpreviews/travel-agency-logo-design-template-634813eb9a3714134172f0532d189d75_screen.jpg?ts=1696317045')\",\n",
    "    \"INSERT INTO agency (id, name, address, fax_number, email, photo_url) VALUES (26,'Agencia Z', 'Boulevard Z16', 2626262, 'agencia_z@example.com', 'https://encrypted-tbn0.gstatic.com/images?q=tbn:ANd9GcRGdC-ts86-Xlm0cnNtPAYeL72WVpStHI-F_w&usqp=CAU')\",\n",
    "    \"INSERT INTO agency (id, name, address, fax_number, email, photo_url) VALUES (27,'Agencia AA', 'Avenida Z17', 2727272, 'agencia_aa@example.com', 'https://www.logogenio.es/images/articles/10-best-travel-logos-budget-yantra.jpg')\",\n",
    "    \"INSERT INTO agency (id, name, address, fax_number, email, photo_url) VALUES (28,'Agencia BB', 'Calle Z18', 2828282, 'agencia_bb@example.com', 'https://static.vecteezy.com/system/resources/previews/006/549/377/non_2x/modern-color-travel-agency-logo-and-suitcase-and-plane-design-concept-free-vector.jpg')\",\n",
    "    \"INSERT INTO agency (id, name, address, fax_number, email, photo_url) VALUES (29,'Agencia CC', 'Plaza Z19', 2929292, 'agencia_cc@example.com', 'https://content.wepik.com/statics/26269232/conversions/preview-page0-thumb.jpg')\",\n",
    "    \"INSERT INTO agency (id, name, address, fax_number, email, photo_url) VALUES (30,'Agencia DD', 'Boulevard Z20', 3030303, 'agencia_dd@example.com', 'https://us.123rf.com/450wm/alexkava/alexkava1704/alexkava170400002/75994539-travel-logo-abstracto-con-aviones-y-el-oc%C3%A9ano.jpg?ver=6')\",\n",
    "    \"INSERT INTO agency (id, name, address, fax_number, email, photo_url) VALUES (31, 'Agency Thirty-One', 'Address Thirty-One', 31000, 'agency31@example.com', 'https://www.logogenio.es/images/articles/10-best-travel-logos-expedia-logo.jpg')\",\n",
    "    \"INSERT INTO agency (id, name, address, fax_number, email, photo_url) VALUES (32, 'Agency Thirty-Two', 'Address Thirty-Two', 32000, 'agency32@example.com', 'https://i.pinimg.com/222x/f1/73/b8/f173b891a280a9d4b578850ea47d9d52.jpg')\",\n",
    "    \"INSERT INTO agency (id, name, address, fax_number, email, photo_url) VALUES (33, 'Agency Thirty-Three', 'Address Thirty-Three', 33000, 'agency33@example.com', 'https://fiverr-res.cloudinary.com/images/t_main1,q_auto,f_auto,q_auto,f_auto/gigs/273584472/original/7a86533afd10432ea7d46426d9d333d3f970caf5/design-an-eye-catching-travel-logo-for-your-business.jpg')\",\n",
    "    \"INSERT INTO agency (id, name, address, fax_number, email, photo_url) VALUES (34, 'Agency Thirty-Four', 'Address Thirty-Four', 34000, 'agency34@example.com', 'https://fiverr-res.cloudinary.com/images/q_auto,f_auto/gigs3/277222903/original/fed442f6c1dbc234fa22331c02570986ad1a312c/do-wonderful-travel-logo.jpg')\",\n",
    "    \"INSERT INTO agency (id, name, address, fax_number, email, photo_url) VALUES (35, 'Agency Thirty-Five', 'Address Thirty-Five', 35000, 'agency35@example.com', 'https://img.freepik.com/vector-premium/logotipo-viaje-moderno-profesional_373791-1192.jpg?w=360')\",\n",
    "    \"INSERT INTO agency (id, name, address, fax_number, email, photo_url) VALUES (36, 'Agency Thirty-Six', 'Address Thirty-Six', 36000, 'agency36@example.com', 'https://www.pngkit.com/png/detail/203-2032686_propuesta-logo-agencia-de-viajes-enlineatravel-logo-circle.png')\",\n",
    "    \"INSERT INTO agency (id, name, address, fax_number, email, photo_url) VALUES (37, 'Agency Thirty-Seven', 'Address Thirty-Seven', 37000, 'agency37@example.com', 'https://www.grupocubanacan.com/assets/logos/imago.png')\",\n",
    "    \"INSERT INTO agency (id, name, address, fax_number, email, photo_url) VALUES (38, 'Agency Thirty-Eight', 'Address Thirty-Eight', 38000, 'agency38@example.com', 'https://www.giraturtravel.com/wp-content/uploads/2016/04/LOGO-GIRATUR-2020.png')\",\n",
    "    \"INSERT INTO agency (id, name, address, fax_number, email, photo_url) VALUES (39, 'Agency Thirty-Nine', 'Address Thirty-Nine', 39000, 'agency39@example.com', 'https://img.freepik.com/vector-gratis/estilo-logotipo-viaje-detallado_23-2148637431.jpg')\",\n",
    "    \"INSERT INTO agency (id, name, address, fax_number, email, photo_url) VALUES (40, 'Agency Forty', 'Address Forty', 40000, 'agency40@example.com', 'https://st2.depositphotos.com/3800167/8496/v/950/depositphotos_84962632-stock-illustration-travel-company-globe-logo.jpg')\",\n",
    "    \"INSERT INTO agency (id, name, address, fax_number, email, photo_url) VALUES (41, 'Agency Forty-One', 'Address Forty-One', 41000, 'agency41@example.com', 'https://www.logogenio.es/images/articles/10-best-travel-logos-airbnb-logo.jpg')\",\n",
    "    \"INSERT INTO agency (id, name, address, fax_number, email, photo_url) VALUES (42, 'Agency Forty-Two', 'Address Forty-Two', 42000, 'agency42@example.com', 'https://s3-media0.fl.yelpcdn.com/bphoto/hwo6et4jnzcrX3o8uyhn5Q/1000s.jpg')\",\n",
    "    \"INSERT INTO agency (id, name, address, fax_number, email, photo_url) VALUES (43, 'Agency Forty-Three', 'Address Forty-Three', 43000, 'agency43@example.com', 'https://www.zarla.com/images/zarla-escpate-1x1-2400x2400-20210603-3k8qhcxkgfvdqyjybyjc.png?crop=1:1,smart&width=250&dpr=2')\",\n",
    "    \"INSERT INTO agency (id, name, address, fax_number, email, photo_url) VALUES (44, 'Agency Forty-Four', 'Address Forty-Four', 44000, 'agency44@example.com', 'https://st3.depositphotos.com/29384342/50530/v/450/depositphotos_505304126-stock-illustration-travel-logo-design-template-airplane.jpg')\",\n",
    "    \"INSERT INTO agency (id, name, address, fax_number, email, photo_url) VALUES (45, 'Agency Forty-Five', 'Address Forty-Five', 45000, 'agency45@example.com', 'https://media.istockphoto.com/id/1042636316/es/vector/logo-de-viajes-con-el-concepto-de-ala-de-avi%C3%B3n.jpg?s=612x612&w=0&k=20&c=mQmZ7IJEqWaZd2ldAmRErbw870FEhNKHO8RdPBLFOj4=')\",\n",
    "    \"INSERT INTO agency (id, name, address, fax_number, email, photo_url) VALUES (46, 'Agency Forty-Six', 'Address Forty-Six', 46000, 'agency46@example.com', 'https://fiverr-res.cloudinary.com/images/t_main1,q_auto,f_auto,q_auto,f_auto/gigs/264282607/original/c2b47e50d036d8ea88734e375c110293db704b63/make-travel-travel-agency-tour-holidays-and-vacation-logo.png')\",\n",
    "    \"INSERT INTO agency (id, name, address, fax_number, email, photo_url) VALUES (47, 'Agency Forty-Seven', 'Address Forty-Seven', 47000, 'agency47@example.com', 'https://proyecto.soydebuenaventura.com/wp-content/uploads/2022/02/Agencia-de-viajes-Fede-Tours-1.jpg')\",\n",
    "    \"INSERT INTO agency (id, name, address, fax_number, email, photo_url) VALUES (48, 'Agency Forty-Eight', 'Address Forty-Eight', 48000, 'agency48@example.com', 'https://cloud.corferias.co/service/por_cla/doc_expositor.cfm?id=28322')\",\n",
    "    \"INSERT INTO agency (id, name, address, fax_number, email, photo_url) VALUES (49, 'Agency Forty-Nine', 'Address Forty-Nine', 49000, 'agency49@example.com', 'https://png.pngtree.com/png-clipart/20200727/original/pngtree-travel-love-logo-airplane-design-airplane-tickets-travel-agencies-png-image_5221802.jpg')\",\n",
    "    \"INSERT INTO agency (id, name, address, fax_number, email, photo_url) VALUES (50, 'Agency Fifty', 'Address Fifty', 50000, 'agency50@example.com', 'https://img.freepik.com/vector-premium/diseno-logotipo-agencia-viajes_751847-41.jpg')\",\n",
    "    \"INSERT INTO agency (id, name, address, fax_number, email, photo_url) VALUES (51, 'Agency Fifty-One', 'Address Fifty-One', 51000, 'agency51@example.com', 'https://cdn-au.onetrust.com/logos/899b7c5e-3799-43f9-a373-853fbd83ea1d/746f26c4-e42a-4e91-b710-e6e46188da08/873cec81-6380-4a96-96d6-e883afd15141/PRIMARY_BRANDMARK_HORIZONTAL_RED_RGB.png')\",\n",
    "    \"INSERT INTO agency (id, name, address, fax_number, email, photo_url) VALUES (52, 'Agency Fifty-Two', 'Address Fifty-Two', 52000, 'agency52@example.com', 'https://i.pinimg.com/236x/df/02/0e/df020e9c93fdf2b156689ac555e609cf.jpg')\",\n",
    "    \"INSERT INTO agency (id, name, address, fax_number, email, photo_url) VALUES (53, 'Agency Fifty-Three', 'Address Fifty-Three', 53000, 'agency53@example.com', 'https://tviajes.com/agencias-de-viajes/logo/maiami-viajes-2153.png')\",\n",
    "    \"INSERT INTO agency (id, name, address, fax_number, email, photo_url) VALUES (54, 'Agency Fifty-Four', 'Address Fifty-Four', 54000, 'agency54@example.com', 'https://www.preferente.com/wp-content/uploads/2023/06/viva-1.jpg')\",\n",
    "    \"INSERT INTO agency (id, name, address, fax_number, email, photo_url) VALUES (55, 'Agency Fifty-Five', 'Address Fifty-Five', 55000, 'agency55@example.com', 'https://www.crushpixel.com/big-static15/preview4/travel-logo-design-template-airplane-1830620.jpg')\",\n",
    "    \"INSERT INTO agency (id, name, address, fax_number, email, photo_url) VALUES (56, 'Agency Fifty-Six', 'Address Fifty-Six', 56000, 'agency56@example.com', 'https://fiverr-res.cloudinary.com/images/t_main1,q_auto,f_auto,q_auto,f_auto/gigs/264704318/original/c1b174d0960a75fb5dc407c3c9ff1be95bcc4404/make-travel-travel-agency-tour-holidays-and-vacation-logo.png')\",\n",
    "    \"INSERT INTO agency (id, name, address, fax_number, email, photo_url) VALUES (57, 'Agency Fifty-Seven', 'Address Fifty-Seven', 57000, 'agency57@example.com', 'https://st2.depositphotos.com/5261163/11225/v/450/depositphotos_112250372-stock-illustration-travel-the-world-monument-concept.jpg')\",\n",
    "    \"INSERT INTO agency (id, name, address, fax_number, email, photo_url) VALUES (58, 'Agency Fifty-Eight', 'Address Fifty-Eight', 58000, 'agency58@example.com', 'https://www.seremprendedor.info/wp-content/uploads/2023/07/Logo-agencia-viajes-divertido-gris-beige.png')\",\n",
    "    \"INSERT INTO agency (id, name, address, fax_number, email, photo_url) VALUES (59, 'Agency Fifty-Nine', 'Address Fifty-Nine', 59000, 'agency59@example.com', 'https://tviajes.com/agencias-de-viajes/logo/comles-comercializadora-de-hoteles-y-agencia-de-viajes-1839.png')\",\n",
    "    \"INSERT INTO agency (id, name, address, fax_number, email, photo_url) VALUES (60, 'Agency Sixty', 'Address Sixty', 60000, 'agency60@example.com', 'https://www.travelclub.es/assets/base/img/layout/logos/logo_redondoAME.png')\"\n",
    "]\n",
    "\n",
    "\n"
   ]
  },
  {
   "cell_type": "code",
   "execution_count": 4,
   "metadata": {},
   "outputs": [
    {
     "name": "stdout",
     "output_type": "stream",
     "text": [
      "Se han insertado 30 registros en la tabla AgencyModel utilizando SQL.\n"
     ]
    }
   ],
   "source": [
    "# Ejecutar las inserciones SQL\n",
    "with engine.connect() as connection:\n",
    "    for sql_insert in agency_inserts:\n",
    "        connection.execute(text(sql_insert))\n",
    "    # Confirmar la transacción al finalizar las inserciones\n",
    "    connection.commit()\n",
    "\n",
    "print(\"Se han insertado 60 registros en la tabla AgencyModel utilizando SQL.\")\n"
   ]
  },
  {
   "cell_type": "code",
   "execution_count": 11,
   "metadata": {},
   "outputs": [],
   "source": [
    "excursion_inserts = [\n",
    "       \"INSERT INTO excursion (id, departure_day, departure_hour, departure_place, arrival_day, arrival_hour, arrival_place, price, photo_url) VALUES (1,'Lunes', '08:00:00', 'Playa A', 'Lunes', '18:00:00', 'Montaña B', 100.00, 'https://th.bing.com/th/id/R.e76ffc3d9943f82a6b4019e2a924ee4b?rik=kqrPi2vDLqjggg&pid=ImgRaw&r=0')\",\n",
    "       \"INSERT INTO excursion (id, departure_day, departure_hour, departure_place, arrival_day, arrival_hour, arrival_place, price, photo_url) VALUES (2,'Martes', '09:00:00', 'Bosque C', 'Martes', '17:00:00', 'Ciudad D', 120.00, 'https://mexicotravelchannel.com.mx/wp-content/uploads/2020/08/bosques-pixabay-1200x680ok.jpg')\",\n",
    "       \"INSERT INTO excursion (id, departure_day, departure_hour, departure_place, arrival_day, arrival_hour, arrival_place, price, photo_url) VALUES (3,'Miércoles', '10:00:00', 'Lago E', 'Miércoles', '16:00:00', 'Pueblo F', 110.00, 'https://blog.vivaaerobus.com/wp-content/uploads/2020/01/Lugares-turisticos-en-Estados-Unidos.jpg')\",\n",
    "       \"INSERT INTO excursion (id, departure_day, departure_hour, departure_place, arrival_day, arrival_hour, arrival_place, price, photo_url) VALUES (4,'Jueves', '11:00:00', 'Cascada G', 'Jueves', '15:00:00', 'Granja H', 130.00, 'https://off.com/-/media/images/off/en/inspiration/travel/11-hiking-hot-spots-around-the-world/25_11hikinghotspotsaroundtheworld_slideshow_2_2x.jpg')\",\n",
    "       \"INSERT INTO excursion (id, departure_day, departure_hour, departure_place, arrival_day, arrival_hour, arrival_place, price, photo_url) VALUES (5,'Viernes', '12:00:00', 'Parque I', 'Viernes', '14:00:00', 'Reserva J', 90.00, 'https://media.iatiseguros.com/wp-content/uploads/2019/07/04011735/que-hacer-en-california-5.jpg')\",\n",
    "       \"INSERT INTO excursion (id, departure_day, departure_hour, departure_place, arrival_day, arrival_hour, arrival_place, price, photo_url) VALUES (6,'Sábado', '13:00:00', 'Playa K', 'Sábado', '13:00:00', 'Montaña L', 150.00, 'https://www.viajarcalifornia.com/img/guia-de-lugares-que-visitar-california.jpg')\",\n",
    "       \"INSERT INTO excursion (id, departure_day, departure_hour, departure_place, arrival_day, arrival_hour, arrival_place, price, photo_url) VALUES (7,'Domingo', '14:00:00', 'Bosque M', 'Domingo', '12:00:00', 'Ciudad N', 95.00, 'https://www.vacacionesnuevayork.com/wp-content/uploads/2020/11/lugares-washington.jpg')\",\n",
    "       \"INSERT INTO excursion (id, departure_day, departure_hour, departure_place, arrival_day, arrival_hour, arrival_place, price, photo_url) VALUES (8,'Lunes', '15:00:00', 'Lago O', 'Lunes', '11:00:00', 'Pueblo P', 140.00, 'https://lonelyplanetes.cdnstatics2.com/sites/default/files/styles/max_1300x1300/public/blog/valle_de_vinales%2C_cuba_bestintravel2016_kamira_shutterstock.jpg?itok=LEt4eKPl')\",\n",
    "       \"INSERT INTO excursion (id, departure_day, departure_hour, departure_place, arrival_day, arrival_hour, arrival_place, price, photo_url) VALUES (9,'Martes', '16:00:00', 'Cascada Q', 'Martes', '10:00:00', 'Granja R', 105.00, 'https://ilamdir.org/blobs/ilamdir/w1280h720/328/2019/51/191cc7f8c4ee0e121ff1093fab3a6537.jpg')\",\n",
    "       \"INSERT INTO excursion (id, departure_day, departure_hour, departure_place, arrival_day, arrival_hour, arrival_place, price, photo_url) VALUES (10,'Miércoles', '17:00:00', 'Parque S', 'Miércoles', '09:00:00', 'Reserva T', 160.00, 'https://www.lovecuba.com/blog/wp-content/uploads/2022/03/13.jpg')\",\n",
    "       \"INSERT INTO excursion (id, departure_day, departure_hour, departure_place, arrival_day, arrival_hour, arrival_place, price, photo_url) VALUES (11,'Jueves', '18:00:00', 'Playa U', 'Jueves', '08:00:00', 'Montaña V', 85.00, 'https://www.hola.com/imagenes/viajes/20200403164883/cuba-la-habana-vieja-maravillas-desde-mi-pantalla/0-807-468/la-habana-vieja-cuba-maravillas-desde-mi-pantalla-e.jpg')\",\n",
    "       \"INSERT INTO excursion (id, departure_day, departure_hour, departure_place, arrival_day, arrival_hour, arrival_place, price, photo_url) VALUES (12,'Viernes', '19:00:00', 'Bosque W', 'Viernes', '07:00:00', 'Ciudad X', 170.00, 'https://www.viajarcalifornia.com/img/que-visitar-en-california.jpg')\",\n",
    "       \"INSERT INTO excursion (id, departure_day, departure_hour, departure_place, arrival_day, arrival_hour, arrival_place, price, photo_url) VALUES (13,'Sábado', '20:00:00', 'Lago Y', 'Sábado', '06:00:00', 'Pueblo Z', 125.00, 'https://upload.wikimedia.org/wikipedia/commons/thumb/1/1d/El_Capitolio_Havana_Cuba.jpg/640px-El_Capitolio_Havana_Cuba.jpg')\",\n",
    "       \"INSERT INTO excursion (id, departure_day, departure_hour, departure_place, arrival_day, arrival_hour, arrival_place, price, photo_url) VALUES (14,'Domingo', '21:00:00', 'Cascada AA', 'Domingo', '05:00:00', 'Granja BB', 180.00, 'https://hometohavana.com/wp-content/uploads/2022/04/varadero-cuba.png')\",\n",
    "       \"INSERT INTO excursion (id, departure_day, departure_hour, departure_place, arrival_day, arrival_hour, arrival_place, price, photo_url) VALUES (15,'Lunes', '22:00:00', 'Parque CC', 'Lunes', '04:00:00', 'Reserva DD', 80.00, 'https://www.journeylatinamerica.com/app/uploads/destinations/cuba/sierra-maestra-and-the-northeast/cub_sierraescambray_elnichowaterfall_shutterstock_616479641-1200x800-c-center.jpg')\",\n",
    "       \"INSERT INTO excursion (id, departure_day, departure_hour, departure_place, arrival_day, arrival_hour, arrival_place, price, photo_url) VALUES (16,'Martes', '23:00:00', 'Playa EE', 'Martes', '03:00:00', 'Montaña FF', 190.00, 'https://media-cdn.tripadvisor.com/media/photo-c/1280x250/11/7e/12/26/photo4jpg.jpg')\",\n",
    "       \"INSERT INTO excursion (id, departure_day, departure_hour, departure_place, arrival_day, arrival_hour, arrival_place, price, photo_url) VALUES (17,'Miércoles', '00:00:00', 'Bosque GG', 'Miércoles', '02:00:00', 'Ciudad HH', 100.00, 'https://assets-global.website-files.com/5efa2cf76690196c83784c64/6115c13206016fdc4efb2934_Iguazu%20Falls.jpg')\",\n",
    "       \"INSERT INTO excursion (id, departure_day, departure_hour, departure_place, arrival_day, arrival_hour, arrival_place, price, photo_url) VALUES (18,'Jueves', '01:00:00', 'Lago II', 'Jueves', '01:00:00', 'Pueblo JJ', 200.00, 'https://dynamic-media-cdn.tripadvisor.com/media/photo-o/2b/28/52/00/caption.jpg?w=1200&h=-1&s=1')\",\n",
    "       \"INSERT INTO excursion (id, departure_day, departure_hour, departure_place, arrival_day, arrival_hour, arrival_place, price, photo_url) VALUES (19,'Viernes', '02:00:00', 'Cascada KK', 'Viernes', '23:00:00', 'Granja LL', 75.00, 'https://www.iese.edu/es/insight/wp-content/uploads/sites/4/2022/11/Londres-Cities-in-motion-1024-alto.jpg')\",\n",
    "       \"INSERT INTO excursion (id, departure_day, departure_hour, departure_place, arrival_day, arrival_hour, arrival_place, price, photo_url) VALUES (20,'Sábado', '03:00:00', 'Parque MM', 'Sábado', '22:00:00', 'Reserva NN', 210.00, 'https://images.adsttc.com/media/images/5d44/14fa/284d/d1fd/3a00/003d/large_jpg/eiffel-tower-in-paris-151-medium.jpg?1564742900')\",\n",
    "       \"INSERT INTO excursion (id, departure_day, departure_hour, departure_place, arrival_day, arrival_hour, arrival_place, price, photo_url) VALUES (21,'Domingo', '04:00:00', 'Playa OO', 'Domingo', '21:00:00', 'Montaña PP', 110.00, 'https://www.berlin.de/binaries/asset/image_assets/8215661/ratio_4_3/1686824224/800x600/')\",\n",
    "       \"INSERT INTO excursion (id, departure_day, departure_hour, departure_place, arrival_day, arrival_hour, arrival_place, price, photo_url) VALUES (22,'Lunes', '05:00:00', 'Bosque QQ', 'Lunes', '20:00:00', 'Ciudad RR', 220.00, 'https://static01.nyt.com/images/2023/09/24/multimedia/24-36Hrs-Amsterdam-01-01-cwqt/24-36Hrs-Amsterdam-01-01-cwqt-mobileMasterAt3x-v2.jpg')\",\n",
    "       \"INSERT INTO excursion (id, departure_day, departure_hour, departure_place, arrival_day, arrival_hour, arrival_place, price, photo_url) VALUES (23,'Martes', '06:00:00', 'Lago SS', 'Martes', '19:00:00', 'Pueblo TT', 95.00, 'https://images.hola.com/imagenes/viajes/20200728172727/25-cosas-que-ver-y-que-hacer-en-lisboa/0-851-17/lisboa-barrio-alfama-t.jpg')\",\n",
    "       \"INSERT INTO excursion (id, departure_day, departure_hour, departure_place, arrival_day, arrival_hour, arrival_place, price, photo_url) VALUES (24,'Miércoles', '07:00:00', 'Cascada UU', 'Miércoles', '18:00:00', 'Granja VV', 230.00, 'https://media.nomadicmatt.com/2023/madriditinerary.jpeg')\",\n",
    "       \"INSERT INTO excursion (id, departure_day, departure_hour, departure_place, arrival_day, arrival_hour, arrival_place, price, photo_url) VALUES (25,'Jueves', '08:00:00', 'Parque WW', 'Jueves', '17:00:00', 'Reserva XX', 105.00, 'https://d2i7eq829tbbje.cloudfront.net/webp/medium/sagrada1_P_3824_d517b3a6-cce0-4f40-a798-c3d27ec24679')\",\n",
    "       \"INSERT INTO excursion (id, departure_day, departure_hour, departure_place, arrival_day, arrival_hour, arrival_place, price, photo_url) VALUES (26,'Viernes', '09:00:00', 'Playa YY', 'Viernes', '16:00:00', 'Montaña ZZ', 240.00, 'https://www.diaridetarragona.com/binrepository/908x506/4c0/900d506/none/15017645/CCYT/barcelona_crop1534490496186_DT201808170002_MG251679226.jpg')\",\n",
    "       \"INSERT INTO excursion (id, departure_day, departure_hour, departure_place, arrival_day, arrival_hour, arrival_place, price, photo_url) VALUES (27,'Sábado', '10:00:00', 'Bosque AAA', 'Sábado', '15:00:00', 'Ciudad BBB', 125.00, 'https://res.cloudinary.com/hello-tickets/image/upload/c_limit,f_auto,q_auto,w_1300/v1640835927/o3pfl41q7m5bj8jardk0.jpg')\",\n",
    "       \"INSERT INTO excursion (id, departure_day, departure_hour, departure_place, arrival_day, arrival_hour, arrival_place, price, photo_url) VALUES (28,'Domingo', '11:00:00', 'Lago CCC', 'Domingo', '14:00:00', 'Pueblo DDD', 260.00, 'https://www.barcelo.com/guia-turismo/wp-content/uploads/2020/03/centro-historico-horizontal.jpg')\",\n",
    "       \"INSERT INTO excursion (id, departure_day, departure_hour, departure_place, arrival_day, arrival_hour, arrival_place, price, photo_url) VALUES (29,'Lunes', '12:00:00', 'Cascada EEE', 'Lunes', '13:00:00', 'Granja FFF', 135.00, 'https://www.barcelo.com/guia-turismo/wp-content/uploads/2020/01/foro-pal.jpg')\",\n",
    "       \"INSERT INTO excursion (id, departure_day, departure_hour, departure_place, arrival_day, arrival_hour, arrival_place, price, photo_url) VALUES (30,'Martes', '13:00:00', 'Parque GGG', 'Martes', '12:00:00', 'Reserva HHH', 270.00, 'https://i1.wp.com/fueradeeje.com/wp-content/uploads/2019/11/roma1.jpg?resize=1024%2C683&ssl=1')\",\n",
    "       \"INSERT INTO excursion (id, departure_day, departure_hour, departure_place, arrival_day, arrival_hour, arrival_place, price, photo_url) VALUES (31, 'Lunes', '10:00:00', 'Lunes', 'Arrival Day Thirty-One', '14:00:00', 'Arrival Place Thirty-One', 100.00, 'https://www.turismoroma.it/sites/default/files/Eternamente%20Roma%201920x1080%20%281%29.jpg')\",\n",
    "      \"INSERT INTO excursion (id, departure_day, departure_hour, departure_place, arrival_day, arrival_hour, arrival_place, price, photo_url) VALUES (32, 'Lunes', '11:00:00', 'La Habana', 'Miércoles', '15:00:00', 'Arrival Place Thirty-Two', 150.00, 'https://statemag.state.gov/wp-content/uploads/2020/10/1120POM-1.jpg')\",\n",
    "      \"INSERT INTO excursion (id, departure_day, departure_hour, departure_place, arrival_day, arrival_hour, arrival_place, price, photo_url) VALUES (33, 'Lunes', '12:00:00', 'La Habana', 'Miércoles', '16:00:00', 'Arrival Place Thirty-Three', 200.00, 'https://media.admagazine.com/photos/6272a4f879a42d127518492f/16:9/w_2560%2Cc_limit/Puente%2520Rialto%2520Venecia.jpg')\",\n",
    "      \"INSERT INTO excursion (id, departure_day, departure_hour, departure_place, arrival_day, arrival_hour, arrival_place, price, photo_url) VALUES (34, 'Lunes', '13:00:00', 'La Habana', 'Miércoles', '17:00:00', 'Arrival Place Thirty-Four', 250.00, 'https://upload.wikimedia.org/wikipedia/commons/1/17/Piazza_San_Marco_%28Venice%29_at_night-msu-2021-6449-.jpg')\",\n",
    "      \"INSERT INTO excursion (id, departure_day, departure_hour, departure_place, arrival_day, arrival_hour, arrival_place, price, photo_url) VALUES (35, 'Lunes', '14:00:00', 'La Habana', 'Miércoles', '18:00:00', 'Arrival Place Thirty-Five', 300.00, 'https://www.losviajesdegrimes.com/wp-content/uploads/2020/04/plaza-de-san-pedro.jpg')\",\n",
    "      \"INSERT INTO excursion (id, departure_day, departure_hour, departure_place, arrival_day, arrival_hour, arrival_place, price, photo_url) VALUES (36, 'Lunes', '15:00:00', 'La Habana', 'Miércoles', '19:00:00', 'Arrival Place Thirty-Six', 350.00, 'https://dynamic-media-cdn.tripadvisor.com/media/photo-o/0c/e4/12/c9/visao-privilegiada.jpg?w=600&h=500&s=1')\",\n",
    "      \"INSERT INTO excursion (id, departure_day, departure_hour, departure_place, arrival_day, arrival_hour, arrival_place, price, photo_url) VALUES (37, 'Lunes', '16:00:00', 'La Habana', 'Miércoles', '20:00:00', 'Arrival Place Thirty-Seven', 400.00, 'https://media.istockphoto.com/id/1188671707/photo/high-up-view-of-obelisk-at-avenue-of-9-de-julio-at-sunset-buenos-aires.webp?b=1&s=170667a&w=0&k=20&c=gdB70uYyhKXJLt3en5a4XkI-nC2AOuMRYkoJ-G6IjUE=')\",\n",
    "      \"INSERT INTO excursion (id, departure_day, departure_hour, departure_place, arrival_day, arrival_hour, arrival_place, price, photo_url) VALUES (38, 'Lunes', '17:00:00', 'La Habana', 'Miércoles', '21:00:00', 'Arrival Place Thirty-Eight', 450.00, 'https://viajes.nationalgeographic.com.es/medio/2023/07/10/machu-picchu_00000000_f7be269f_230710143504_800x800.jpg')\",\n",
    "      \"INSERT INTO excursion (id, departure_day, departure_hour, departure_place, arrival_day, arrival_hour, arrival_place, price, photo_url) VALUES (39, 'Lunes', '18:00:00', 'La Habana', 'Miércoles', '22:00:00', 'Arrival Place Thirty-Nine', 500.00, 'https://historia.nationalgeographic.com.es/medio/2023/02/23/istock-529951097_15b453ea_230223171646_1280x853.jpg')\",\n",
    "      \"INSERT INTO excursion (id, departure_day, departure_hour, departure_place, arrival_day, arrival_hour, arrival_place, price, photo_url) VALUES (40, 'Martes', '19:00:00', 'Matanzas', 'Arrival Day Forty', '23:00:00', 'Arrival Place Forty', 550.00, 'https://i.natgeofe.com/n/c85fc9f8-8e50-48f5-a834-82df195a609c/05-waun-mawn-stonehenge.jpg')\",\n",
    "      \"INSERT INTO excursion (id, departure_day, departure_hour, departure_place, arrival_day, arrival_hour, arrival_place, price, photo_url) VALUES (41, 'Martes', '20:00:00', 'Matanzas', 'Arrival Day Forty-One', '00:00:00', 'Arrival Place Forty-One', 600.00, 'https://www.civitatis.com/blog/wp-content/uploads/2019/09/invierno-moscu.jpg')\",\n",
    "      \"INSERT INTO excursion (id, departure_day, departure_hour, departure_place, arrival_day, arrival_hour, arrival_place, price, photo_url) VALUES (42, 'Martes', '21:00:00', 'Matanzas', 'Arrival Day Forty-Two', '01:00:00', 'Arrival Place Forty-Two', 650.00, 'https://cdn.britannica.com/35/156335-050-62245FCA/Tower-Bridge-River-Thames-London.jpg')\",\n",
    "      \"INSERT INTO excursion (id, departure_day, departure_hour, departure_place, arrival_day, arrival_hour, arrival_place, price, photo_url) VALUES (43, 'Martes', '22:00:00', 'Matanzas', 'Arrival Day Forty-Three', '02:00:00', 'Arrival Place Forty-Three', 700.00, 'https://www.nyhabitat.com/blog/wp-content/uploads/2013/10/westminster-london-houses-parliament-big-ben-thames-river.jpg')\",\n",
    "      \"INSERT INTO excursion (id, departure_day, departure_hour, departure_place, arrival_day, arrival_hour, arrival_place, price, photo_url) VALUES (44, 'Martes', '23:00:00', 'Matanzas', 'Arrival Day Forty-Four', '03:00:00', 'Arrival Place Forty-Four', 750.00, 'https://media.cntraveler.com/photos/60341fbad7bd3b27823c9db2/16:9/w_2560%2Cc_limit/Tokyo-2021-GettyImages-1208124099.jpg')\",\n",
    "      \"INSERT INTO excursion (id, departure_day, departure_hour, departure_place, arrival_day, arrival_hour, arrival_place, price, photo_url) VALUES (45, 'Martes', '00:00:00', 'Matanzas', 'Arrival Day Forty-Five', '04:00:00', 'Arrival Place Forty-Five', 800.00, 'https://static.independent.co.uk/2023/07/11/09/iStock-1439980218.jpg')\",\n",
    "      \"INSERT INTO excursion (id, departure_day, departure_hour, departure_place, arrival_day, arrival_hour, arrival_place, price, photo_url) VALUES (46, 'Martes', '01:00:00', 'Matanzas', 'Arrival Day Forty-Six', '05:00:00', 'Arrival Place Forty-Six', 850.00, 'https://www.thewondertrip.com/data/posts/69/images/original/estocolmo%201.jpg')\",\n",
    "      \"INSERT INTO excursion (id, departure_day, departure_hour, departure_place, arrival_day, arrival_hour, arrival_place, price, photo_url) VALUES (47, 'Martes', '02:00:00', 'Matanzas', 'Arrival Day Forty-Seven', '06:00:00', 'Arrival Place Forty-Seven', 900.00, 'https://www.65ymas.com/uploads/s1/11/01/1/bigstock-copenhagen-denmark-on-the-nyh-142109750.jpeg')\",\n",
    "      \"INSERT INTO excursion (id, departure_day, departure_hour, departure_place, arrival_day, arrival_hour, arrival_place, price, photo_url) VALUES (48, 'Martes', '03:00:00', 'Matanzas', 'Arrival Day Forty-Eight', '07:00:00', 'Arrival Place Forty-Eight', 950.00, 'https://lh3.googleusercontent.com/p/AF1QipPAz-BiveJjYy5aTTsFF8f_hHVzZ0Bausbsmseh=s680-w680-h510')\",\n",
    "      \"INSERT INTO excursion (id, departure_day, departure_hour, departure_place, arrival_day, arrival_hour, arrival_place, price, photo_url) VALUES (49, 'Martes', '04:00:00', 'Matanzas', 'Arrival Day Forty-Nine', '08:00:00', 'Arrival Place Forty-Nine', 1000.00, 'https://a.cdn-hotels.com/gdcs/production5/d1996/54fdb73f-eee5-4612-a3e7-6fc7ed2f7bee.jpg')\",\n",
    "      \"INSERT INTO excursion (id, departure_day, departure_hour, departure_place, arrival_day, arrival_hour, arrival_place, price, photo_url) VALUES (50, 'Miércoles', '05:00:00', 'Varadero', 'Arrival Day Fifty', '09:00:00', 'Arrival Place Fifty', 1050.00, 'https://a.cdn-hotels.com/gdcs/production4/d1532/452deb05-dc0a-489e-b84e-360b745b4e7b.jpg?impolicy=fcrop&w=800&h=533&q=medium')\",\n",
    "      \"INSERT INTO excursion (id, departure_day, departure_hour, departure_place, arrival_day, arrival_hour, arrival_place, price, photo_url) VALUES (51, 'Miércoles', '06:00:00', 'Varadero', 'Arrival Day Fifty-One', '10:00:00', 'Arrival Place Fifty-One', 1100.00, 'https://cdn.britannica.com/61/93061-050-99147DCE/Statue-of-Liberty-Island-New-York-Bay.jpg')\",\n",
    "      \"INSERT INTO excursion (id, departure_day, departure_hour, departure_place, arrival_day, arrival_hour, arrival_place, price, photo_url) VALUES (52, 'Miércoles', '07:00:00', 'Varadero', 'Arrival Day Fifty-Two', '11:00:00', 'Arrival Place Fifty-Two', 1150.00, 'https://res.cloudinary.com/dtljonz0f/image/upload/f_auto/q_auto/v1/gc-v1/san-francisco/painted_ladies-shutterstock_141108409.jpg')\",\n",
    "      \"INSERT INTO excursion (id, departure_day, departure_hour, departure_place, arrival_day, arrival_hour, arrival_place, price, photo_url) VALUES (53, 'Miércoles', '08:00:00', 'Varadero', 'Arrival Day Fifty-Three', '12:00:00', 'Arrival Place Fifty-Three', 1200.00, 'https://a.cdn-hotels.com/gdcs/production156/d397/81ce7a3b-5be9-4d0c-89e2-ab7920d94bb9.jpg?impolicy=fcrop&w=800&h=533&q=medium')\",\n",
    "      \"INSERT INTO excursion (id, departure_day, departure_hour, departure_place, arrival_day, arrival_hour, arrival_place, price, photo_url) VALUES (54, 'Miércoles', '09:00:00', 'Varadero', 'Arrival Day Fifty-Four', '13:00:00', 'Arrival Place Fifty-Four', 1250.00, 'https://images.musement.com/cover/0001/43/washington_header-42349.jpeg')\",\n",
    "      \"INSERT INTO excursion (id, departure_day, departure_hour, departure_place, arrival_day, arrival_hour, arrival_place, price, photo_url) VALUES (55, 'Miércoles', '10:00:00', 'Varadero', 'Arrival Day Fifty-Five', '14:00:00', 'Arrival Place Fifty-Five', 1300.00, 'https://cdn.britannica.com/93/94493-050-35524FED/Toronto.jpg')\",\n",
    "      \"INSERT INTO excursion (id, departure_day, departure_hour, departure_place, arrival_day, arrival_hour, arrival_place, price, photo_url) VALUES (56, 'Miércoles', '11:00:00', 'Varadero', 'Arrival Day Fifty-Six', '15:00:00', 'Arrival Place Fifty-Six', 1350.00, 'https://elartechino.com/wp-content/uploads/2023/10/muralla-china.jpg')\",\n",
    "      \"INSERT INTO excursion (id, departure_day, departure_hour, departure_place, arrival_day, arrival_hour, arrival_place, price, photo_url) VALUES (57, 'Miércoles', '12:00:00', 'Varadero', 'Arrival Day Fifty-Seven', '16:00:00', 'Arrival Place Fifty-Seven', 1400.00, 'https://www.lookoutpro.com/wp-content/uploads/2018/03/iStock-830636952.jpg')\",\n",
    "      \"INSERT INTO excursion (id, departure_day, departure_hour, departure_place, arrival_day, arrival_hour, arrival_place, price, photo_url) VALUES (58, 'Miércoles', '13:00:00', 'Varadero', 'Arrival Day Fifty-Eight', '17:00:00', 'Arrival Place Fifty-Eight', 1450.00, 'https://www.disfrutaviena.com/f/austria/viena/guia/opera-viena.jpg')\",\n",
    "      \"INSERT INTO excursion (id, departure_day, departure_hour, departure_place, arrival_day, arrival_hour, arrival_place, price, photo_url) VALUES (59, 'Miércoles', '14:00:00', 'Varadero', 'Arrival Day Fifty-Nine', '18:00:00', 'Arrival Place Fifty-Nine', 1500.00, 'https://media-cdn.tripadvisor.com/media/attractions-splice-spp-720x480/0f/be/84/4c.jpg')\",\n",
    "      \"INSERT INTO excursion (id, departure_day, departure_hour, departure_place, arrival_day, arrival_hour, arrival_place, price, photo_url) VALUES (60, 'Miércoles', '15:00:00', 'Madrid', 'Arrival Day Sixty', '19:00:00', 'Arrival Place Sixty', 1550.00, 'https://cdn.sortiraparis.com/images/80/87950/484853-visuels-disneyland-paris-chateau.jpg')\"]\n"
   ]
  },
  {
   "cell_type": "code",
   "execution_count": 12,
   "metadata": {},
   "outputs": [
    {
     "name": "stdout",
     "output_type": "stream",
     "text": [
      "Se han insertado 30 registros en la tabla ExcursionModel utilizando SQL.\n"
     ]
    }
   ],
   "source": [
    "# Ejecutar las inserciones SQL\n",
    "with engine.connect() as connection:\n",
    "    for sql_insert in excursion_inserts:\n",
    "        connection.execute(text(sql_insert))\n",
    "    # Confirmar la transacción al finalizar las inserciones\n",
    "    connection.commit()\n",
    "\n",
    "print(\"Se han insertado 60 registros en la tabla ExcursionModel utilizando SQL.\")\n"
   ]
  },
  {
   "cell_type": "code",
   "execution_count": 13,
   "metadata": {},
   "outputs": [],
   "source": [
    "extended_excursion_inserts = [\n",
    "    \"INSERT INTO extended_excursion (excursion_id) VALUES (31)\",\n",
    "    \"INSERT INTO extended_excursion (excursion_id) VALUES (32)\",\n",
    "    \"INSERT INTO extended_excursion (excursion_id) VALUES (33)\",\n",
    "    \"INSERT INTO extended_excursion (excursion_id) VALUES (34)\",\n",
    "    \"INSERT INTO extended_excursion (excursion_id) VALUES (35)\",\n",
    "    \"INSERT INTO extended_excursion (excursion_id) VALUES (36)\",\n",
    "    \"INSERT INTO extended_excursion (excursion_id) VALUES (37)\",\n",
    "    \"INSERT INTO extended_excursion (excursion_id) VALUES (38)\",\n",
    "    \"INSERT INTO extended_excursion (excursion_id) VALUES (39)\",\n",
    "    \"INSERT INTO extended_excursion (excursion_id) VALUES (40)\",\n",
    "    \"INSERT INTO extended_excursion (excursion_id) VALUES (41)\",\n",
    "    \"INSERT INTO extended_excursion (excursion_id) VALUES (42)\",\n",
    "    \"INSERT INTO extended_excursion (excursion_id) VALUES (43)\",\n",
    "    \"INSERT INTO extended_excursion (excursion_id) VALUES (44)\",\n",
    "    \"INSERT INTO extended_excursion (excursion_id) VALUES (45)\",\n",
    "    \"INSERT INTO extended_excursion (excursion_id) VALUES (46)\",\n",
    "    \"INSERT INTO extended_excursion (excursion_id) VALUES (47)\",\n",
    "    \"INSERT INTO extended_excursion (excursion_id) VALUES (48)\",\n",
    "    \"INSERT INTO extended_excursion (excursion_id) VALUES (49)\",\n",
    "    \"INSERT INTO extended_excursion (excursion_id) VALUES (50)\",\n",
    "    \"INSERT INTO extended_excursion (excursion_id) VALUES (51)\",\n",
    "    \"INSERT INTO extended_excursion (excursion_id) VALUES (52)\",\n",
    "    \"INSERT INTO extended_excursion (excursion_id) VALUES (53)\",\n",
    "    \"INSERT INTO extended_excursion (excursion_id) VALUES (54)\",\n",
    "    \"INSERT INTO extended_excursion (excursion_id) VALUES (55)\",\n",
    "    \"INSERT INTO extended_excursion (excursion_id) VALUES (56)\",\n",
    "    \"INSERT INTO extended_excursion (excursion_id) VALUES (57)\",\n",
    "    \"INSERT INTO extended_excursion (excursion_id) VALUES (58)\",\n",
    "    \"INSERT INTO extended_excursion (excursion_id) VALUES (59)\",\n",
    "    \"INSERT INTO extended_excursion (excursion_id) VALUES (60)\"\n",
    "]\n",
    "\n"
   ]
  },
  {
   "cell_type": "code",
   "execution_count": 14,
   "metadata": {},
   "outputs": [
    {
     "name": "stdout",
     "output_type": "stream",
     "text": [
      "Se han insertado 30 registros en la tabla ExtendedExcursionModel utilizando SQL.\n"
     ]
    }
   ],
   "source": [
    "# Ejecutar las inserciones SQL\n",
    "with engine.connect() as connection:\n",
    "    for sql_insert in extended_excursion_inserts:\n",
    "        connection.execute(text(sql_insert))\n",
    "    # Confirmar la transacción al finalizar las inserciones\n",
    "    connection.commit()\n",
    "\n",
    "print(\"Se han insertado 30 registros en la tabla ExtendedExcursionModel utilizando SQL.\")\n"
   ]
  },
  {
   "cell_type": "code",
   "execution_count": 15,
   "metadata": {},
   "outputs": [],
   "source": [
    "hotel_inserts = [\n",
    "    \"INSERT INTO hotel (id, name, address, category, photo_url) VALUES (1,'Gran Budapest Hotel', 'Calle 123', 3, 'https://turiscool.com/wp-content/uploads/2023/03/grand-budapest-hotel.jpg')\",\n",
    "    \"INSERT INTO hotel (id, name, address, category, photo_url) VALUES (2,'Hotel B', 'Avenida Principal', 4, 'https://orsmexico.files.wordpress.com/2013/02/bellagio-las-vegas.jpg')\",\n",
    "    \"INSERT INTO hotel (id, name, address, category, photo_url) VALUES (3,'Hotel Plaza', 'Plaza Central', 2, 'https://www.voyanyc.com/wp-content/uploads/2015/05/Hoteles-famosos-en-New-York-Hotel-Plaza.jpg')\",\n",
    "    \"INSERT INTO hotel (id, name, address, category, photo_url) VALUES (4,'Hotel D', 'Boulevard Central', 5, 'https://media.gq.com.mx/photos/5bea02db9a2aa5308db692b9/master/w_1600%2Cc_limit/hoteles_de_famosos_3087.jpg')\",\n",
    "    \"INSERT INTO hotel (id, name, address, category, photo_url) VALUES (5,'Hotel E', 'Calle 456', 3, 'https://media.iatiseguros.com/wp-content/uploads/2018/02/04005213/mejores-hoteles-asia-lujo-6.jpg')\",\n",
    "    \"INSERT INTO hotel (id, name, address, category, photo_url) VALUES (6,'Hotel F', 'Avenida 789', 4, 'https://static8.depositphotos.com/1022214/903/i/450/depositphotos_9030164-stock-photo-bellagio-las-vegas-united-states.jpg')\",\n",
    "    \"INSERT INTO hotel (id, name, address, category, photo_url) VALUES (7,'Hotel G', 'Calle 010', 2, 'https://conozcasucanton.com/wp-content/uploads/sites/11/2016/07/springs-3.jpg')\",\n",
    "    \"INSERT INTO hotel (id, name, address, category, photo_url) VALUES (8,'Hotel H', 'Plaza X', 5, 'https://www.travelreport.mx/wp-content/uploads/2018/08/los-hoteles-mas-famosos-en-los-angeles-chateau-marmont.jpg')\",\n",
    "    \"INSERT INTO hotel (id, name, address, category, photo_url) VALUES (9,'Hotel I', 'Boulevard Y', 3, 'https://phantom-elmundo.unidadeditorial.es/9c6a012802be2aa8ccae5241a65e8715/resize/1300/assets/multimedia/imagenes/2023/11/27/17010897291594.jpg')\",\n",
    "    \"INSERT INTO hotel (id, name, address, category, photo_url) VALUES (10,'Hotel J', 'Calle Z', 4, 'https://media.traveler.es/photos/613770e7c4f3d95786668af9/master/w_320%2Cc_limit/42664.jpg')\",\n",
    "    \"INSERT INTO hotel (id, name, address, category, photo_url) VALUES (11,'Hotel K', 'Avenida Z1', 2, 'https://a.travel-assets.com/findyours-php/viewfinder/images/res40/199000/199138.jpg')\",\n",
    "    \"INSERT INTO hotel (id, name, address, category, photo_url) VALUES (12,'Habana Libre', 'Calle L y 23', 5, 'https://tryp-habana-libre.greaterantilleshotels.com/data/Pictures/OriginalPhoto/12747/1274707/1274707729/havana-tryp-habana-libre-hotel-picture-1.JPEG')\",\n",
    "    \"INSERT INTO hotel (id, name, address, category, photo_url) VALUES (13,'Hotel Packard', 'Prado y Malecón', 3, 'https://wcm.transat.com/getmedia/3d9be4e7-7fe3-4c06-8ed9-22d1f1d8a393/HAV-Iberostar-Gran-Hotel-Packard-Facade-001-Rendering.aspx')\",\n",
    "    \"INSERT INTO hotel (id, name, address, category, photo_url) VALUES (14,'Hotel Prado y Malecón', 'Prado y Malecón', 4, 'https://infotur.cu/api/resources/image/La%20Habana/Sugerencias/Alojamiento/Paseo%20del%20Prado.jpg?&raw=true')\",\n",
    "    \"INSERT INTO hotel (id, name, address, category, photo_url) VALUES (15,'Hotel Santiago de Cuba', 'Santiago de Cuba', 2, 'https://dynamic-media-cdn.tripadvisor.com/media/photo-o/10/a5/3f/20/melia-santiago-de-cuba.jpg?w=700&h=-1&s=1')\",\n",
    "    \"INSERT INTO hotel (id, name, address, category, photo_url) VALUES (16,'Hotel Internacional de Varadero', 'Varadero', 5, 'https://lh3.googleusercontent.com/proxy/18XS6tRDL5QeMkVnBALVi8rydjhQF0jVRVY07V3JjptmxMjyaGiPF91LXaCdz4qoevQruP_yu3eyzmRp7fHtZK6cZ0Ao9WJ-uMB9VqWFcuqNm_k1j18')\",\n",
    "    \"INSERT INTO hotel (id, name, address, category, photo_url) VALUES (17,'Hotel Gran Aston', 'Malecón', 3, 'https://dynamic-media-cdn.tripadvisor.com/media/photo-o/22/c2/f9/8d/hotel-grand-aston-la.jpg?w=700&h=-1&s=1')\",\n",
    "    \"INSERT INTO hotel (id, name, address, category, photo_url) VALUES (18,'Hotel Riviera', 'Malecón', 4, 'https://imgcy.trivago.com/c_limit,d_dummy.jpeg,f_auto,h_600,q_auto,w_600//hotelier-images/e8/9b/209db49b0ffe5a592245d786d5a5ebc5f59000b5db1281936cd92efc2068.jpeg')\",\n",
    "    \"INSERT INTO hotel (id, name, address, category, photo_url) VALUES (19,'Hotel Capri', 'Avenida Z9', 2, 'https://media.solwayscuba.com/photos/Hotel/2019/hotel/hotel-nh-capri-hotel-12357.jpg')\",\n",
    "    \"INSERT INTO hotel (id, name, address, category, photo_url) VALUES (20,'Hotel Cohíba', 'Calle Z10', 5, 'https://melia-cohiba.hoteles-en-islas-del-caribe.com/data/Pictures/OriginalPhoto/12747/1274792/1274792572/havana-melia-cohiba-hotel-picture-2.JPEG')\",\n",
    "    \"INSERT INTO hotel (id, name, address, category, photo_url) VALUES (21,'Hotel Tulipán', 'Plaza Z11', 3, 'https://images.trvl-media.com/lodging/16000000/15830000/15827400/15827325/327afacd.jpg?impolicy=resizecrop&rw=500&ra=fit')\",\n",
    "    \"INSERT INTO hotel (id, name, address, category, photo_url) VALUES (22,'Hotel Neptuno', 'Boulevard Z12', 4, 'https://media.solwayscuba.com/photos/Hotel/2019/hotel/neptuno-triton-hotel-13284.jpg')\",\n",
    "    \"INSERT INTO hotel (id, name, address, category, photo_url) VALUES (23,'Hotel Transylvania', 'Avenida Z13', 2, 'https://rolandia.eu/file/MC44ZmY4MC5Ib3RlbCBUcmFuc3lsdmFuaWEgMi5qcGcudHh0')\",\n",
    "    \"INSERT INTO hotel (id, name, address, category, photo_url) VALUES (24,'Hotel Caesars Palace', 'Calle Z14', 5, 'https://upload.wikimedia.org/wikipedia/commons/b/b8/Caesars_Palace_crop.jpg')\",\n",
    "    \"INSERT INTO hotel (id, name, address, category, photo_url) VALUES (25,'Hotel Luxor', 'Las Vegas', 3, 'https://dynamic-media-cdn.tripadvisor.com/media/photo-o/2a/73/b6/c1/luxor.jpg?w=1200&h=-1&s=1')\",\n",
    "    \"INSERT INTO hotel (id, name, address, category, photo_url) VALUES (26,'Hotel Lutetia', 'Paris', 4, 'https://upload.wikimedia.org/wikipedia/commons/d/da/H%C3%B4tel_Lutetia%2C_Paris_6e.jpg')\",\n",
    "    \"INSERT INTO hotel (id, name, address, category, photo_url) VALUES (27,'Anantara Palazzo Naiadi Rome Hotel', 'Roma', 2, 'https://assets.anantara.com/image/upload/q_auto,f_auto/media/minor/anantara/images/anantara-palazzo-naiadi-rome/sneak-peak/anantara_palazzo_naiadi_rome_hotel_new_opening_944x510.jpg')\",\n",
    "    \"INSERT INTO hotel (id, name, address, category, photo_url) VALUES (28,'InterContinental Rome Ambasciatori Palace', 'Roma', 5, 'https://digital.ihg.com/is/image/ihg/intercontinental-rome-7035066599-16x9?')\",\n",
    "    \"INSERT INTO hotel (id, name, address, category, photo_url) VALUES (29,'Hotel Riu Caribe', 'Cancún', 3, 'https://www.riu.com/images/hotels/2803.jpg')\",\n",
    "    \"INSERT INTO hotel (id, name, address, category, photo_url) VALUES (30,'Hotel DD', 'Bahamas', 4, 'https://www.luxurylink.com/images/sho_60ddf3bc/2579416_604-630/image-2579416_604.jpg')\"\n",
    "]\n"
   ]
  },
  {
   "cell_type": "code",
   "execution_count": 16,
   "metadata": {},
   "outputs": [
    {
     "name": "stdout",
     "output_type": "stream",
     "text": [
      "Se han insertado 30 registros en la tabla HotelModel utilizando SQL.\n"
     ]
    }
   ],
   "source": [
    "# Ejecutar las inserciones SQL\n",
    "with engine.connect() as connection:\n",
    "    for sql_insert in hotel_inserts:\n",
    "        connection.execute(text(sql_insert))\n",
    "    # Confirmar la transacción al finalizar las inserciones\n",
    "    connection.commit()\n",
    "\n",
    "print(\"Se han insertado 30 registros en la tabla HotelModel utilizando SQL.\")\n"
   ]
  },
  {
   "cell_type": "code",
   "execution_count": 17,
   "metadata": {},
   "outputs": [],
   "source": [
    "facility_inserts = [\n",
    "    \"INSERT INTO facility (id, description) VALUES (1,'Piscina olímpica')\",\n",
    "    \"INSERT INTO facility (id, description) VALUES (2,'Gimnasio')\",\n",
    "    \"INSERT INTO facility (id, description) VALUES (3,'Spa')\",\n",
    "    \"INSERT INTO facility (id, description) VALUES (4,'Restaurante')\",\n",
    "    \"INSERT INTO facility (id, description) VALUES (5,'Salón de eventos')\",\n",
    "    \"INSERT INTO facility (id, description) VALUES (6,'Bar')\",\n",
    "    \"INSERT INTO facility (id, description) VALUES (7,'Centro de negocios')\",\n",
    "    \"INSERT INTO facility (id, description) VALUES (8,'Servicio de habitaciones 24 horas')\",\n",
    "    \"INSERT INTO facility (id, description) VALUES (9,'Wifi gratuito')\",\n",
    "    \"INSERT INTO facility (id, description) VALUES (10,'Estacionamiento')\",\n",
    "    \"INSERT INTO facility (id, description) VALUES (11,'Recepción 24 horas')\",\n",
    "    \"INSERT INTO facility (id, description) VALUES (12,'Consigna de equipaje')\",\n",
    "    \"INSERT INTO facility (id, description) VALUES (13,'Servicio de lavandería')\",\n",
    "    \"INSERT INTO facility (id, description) VALUES (14,'Caja fuerte en la habitación')\",\n",
    "    \"INSERT INTO facility (id, description) VALUES (15,'Transporte al aeropuerto')\",\n",
    "    \"INSERT INTO facility (id, description) VALUES (16,'Alquiler de bicicletas')\",\n",
    "    \"INSERT INTO facility (id, description) VALUES (17,'Jardines')\",\n",
    "    \"INSERT INTO facility (id, description) VALUES (18,'Área de juegos para niños')\",\n",
    "    \"INSERT INTO facility (id, description) VALUES (19,'Salón de belleza')\",\n",
    "    \"INSERT INTO facility (id, description) VALUES (20,'Jacuzzi')\",\n",
    "    \"INSERT INTO facility (id, description) VALUES (21,'Sauna')\",\n",
    "    \"INSERT INTO facility (id, description) VALUES (22,'Sala de juegos')\",\n",
    "    \"INSERT INTO facility (id, description) VALUES (23,'Tienda de regalos')\",\n",
    "    \"INSERT INTO facility (id, description) VALUES (24,'Ascensor')\",\n",
    "    \"INSERT INTO facility (id, description) VALUES (25,'Acceso para personas con movilidad reducida')\",\n",
    "    \"INSERT INTO facility (id, description) VALUES (26,'Servicio de despertador')\",\n",
    "    \"INSERT INTO facility (id, description) VALUES (27,'Biblioteca')\",\n",
    "    \"INSERT INTO facility (id, description) VALUES (28,'Mascotas permitidas')\",\n",
    "    \"INSERT INTO facility (id, description) VALUES (29,'Guardería')\",\n",
    "    \"INSERT INTO facility (id, description) VALUES (30,'Sala de TV compartida')\"\n",
    "]\n"
   ]
  },
  {
   "cell_type": "code",
   "execution_count": 18,
   "metadata": {},
   "outputs": [
    {
     "name": "stdout",
     "output_type": "stream",
     "text": [
      "Se han insertado 30 registros en la tabla FacilityModel utilizando SQL.\n"
     ]
    }
   ],
   "source": [
    "# Ejecutar las inserciones SQL\n",
    "with engine.connect() as connection:\n",
    "    for sql_insert in facility_inserts:\n",
    "        connection.execute(text(sql_insert))\n",
    "    # Confirmar la transacción al finalizar las inserciones\n",
    "    connection.commit()\n",
    "\n",
    "print(\"Se han insertado 30 registros en la tabla FacilityModel utilizando SQL.\")\n"
   ]
  },
  {
   "cell_type": "code",
   "execution_count": 19,
   "metadata": {},
   "outputs": [],
   "source": [
    "tourist_type_inserts = [\n",
    "    \"INSERT INTO tourist_type (id, name) VALUES (1,'Turista')\",\n",
    "    \"INSERT INTO tourist_type (id, name) VALUES (2,'Aventurero')\",\n",
    "    \"INSERT INTO tourist_type (id, name) VALUES (3,'Viajero cultural')\",\n",
    "    \"INSERT INTO tourist_type (id, name) VALUES (4,'Mochilero')\",\n",
    "    \"INSERT INTO tourist_type (id, name) VALUES (5,'Ecoturista')\",\n",
    "    \"INSERT INTO tourist_type (id, name) VALUES (6,'Gastrónomo')\",\n",
    "    \"INSERT INTO tourist_type (id, name) VALUES (7,'Relax')\",\n",
    "    \"INSERT INTO tourist_type (id, name) VALUES (8,'Familiar')\",\n",
    "    \"INSERT INTO tourist_type (id, name) VALUES (9,'Deportista')\",\n",
    "    \"INSERT INTO tourist_type (id, name) VALUES (10,'Estudiante')\",\n",
    "    \"INSERT INTO tourist_type (id, name) VALUES (11,'Negocios')\",\n",
    "    \"INSERT INTO tourist_type (id, name) VALUES (12,'Lujo')\",\n",
    "    \"INSERT INTO tourist_type (id, name) VALUES (13,'Aventurero extremo')\",\n",
    "    \"INSERT INTO tourist_type (id, name) VALUES (14,'Amante de la naturaleza')\",\n",
    "    \"INSERT INTO tourist_type (id, name) VALUES (15,'Amante de la historia')\",\n",
    "    \"INSERT INTO tourist_type (id, name) VALUES (16,'Música y arte')\",\n",
    "    \"INSERT INTO tourist_type (id, name) VALUES (17,'Gastronomía internacional')\",\n",
    "    \"INSERT INTO tourist_type (id, name) VALUES (18,'Relax y spa')\",\n",
    "    \"INSERT INTO tourist_type (id, name) VALUES (19,'Viaje en pareja')\",\n",
    "    \"INSERT INTO tourist_type (id, name) VALUES (20,'Viaje en grupo')\",\n",
    "    \"INSERT INTO tourist_type (id, name) VALUES (21,'Viaje en solitario')\",\n",
    "    \"INSERT INTO tourist_type (id, name) VALUES (22,'Aventura acuática')\",\n",
    "    \"INSERT INTO tourist_type (id, name) VALUES (23,'Aventura terrestre')\",\n",
    "    \"INSERT INTO tourist_type (id, name) VALUES (24,'Aventura aérea')\",\n",
    "    \"INSERT INTO tourist_type (id, name) VALUES (25,'Aventura subterránea')\",\n",
    "    \"INSERT INTO tourist_type (id, name) VALUES (26,'Caza de auroras boreales')\",\n",
    "    \"INSERT INTO tourist_type (id, name) VALUES (27,'Viaje de montaña')\",\n",
    "    \"INSERT INTO tourist_type (id, name) VALUES (28,'Turismo de compras')\",\n",
    "    \"INSERT INTO tourist_type (id, name) VALUES (29,'Turismo religioso')\",\n",
    "    \"INSERT INTO tourist_type (id, name) VALUES (30,'Turismo de crucero')\"\n",
    "]\n"
   ]
  },
  {
   "cell_type": "code",
   "execution_count": 20,
   "metadata": {},
   "outputs": [
    {
     "name": "stdout",
     "output_type": "stream",
     "text": [
      "Se han insertado 30 registros en la tabla TouristTypeModel utilizando SQL.\n"
     ]
    }
   ],
   "source": [
    "# Ejecutar las inserciones SQL\n",
    "with engine.connect() as connection:\n",
    "    for sql_insert in tourist_type_inserts:\n",
    "        connection.execute(text(sql_insert))\n",
    "    # Confirmar la transacción al finalizar las inserciones\n",
    "    connection.commit()\n",
    "\n",
    "print(\"Se han insertado 30 registros en la tabla TouristTypeModel utilizando SQL.\")\n"
   ]
  },
  {
   "cell_type": "code",
   "execution_count": 21,
   "metadata": {},
   "outputs": [],
   "source": [
    "offer_inserts = [\n",
    "    \"INSERT INTO offer (id, price, description, hotel_id) VALUES (1, 150.00, 'Oferta especial', 1)\",\n",
    "    \"INSERT INTO offer (id, price, description, hotel_id) VALUES (2, 120.00, 'Descuento de temporada', 2)\",\n",
    "    \"INSERT INTO offer (id, price, description, hotel_id) VALUES (3, 180.00, 'Paquete todo incluido', 3)\",\n",
    "    \"INSERT INTO offer (id, price, description, hotel_id) VALUES (4, 200.00, 'Oferta de fin de semana', 4)\",\n",
    "    \"INSERT INTO offer (id, price, description, hotel_id) VALUES (5, 130.00, 'Tarifa especial para parejas', 5)\",\n",
    "    \"INSERT INTO offer (id, price, description, hotel_id) VALUES (6, 170.00, 'Promoción familiar', 6)\",\n",
    "    \"INSERT INTO offer (id, price, description, hotel_id) VALUES (7, 140.00, 'Descuento por reserva anticipada', 7)\",\n",
    "    \"INSERT INTO offer (id, price, description, hotel_id) VALUES (8, 160.00, 'Oferta de última hora', 8)\",\n",
    "    \"INSERT INTO offer (id, price, description, hotel_id) VALUES (9, 190.00, 'Paquete de aniversario', 9)\",\n",
    "    \"INSERT INTO offer (id, price, description, hotel_id) VALUES (10, 220.00, 'Oferta de luna de miel', 10)\",\n",
    "    \"INSERT INTO offer (id, price, description, hotel_id) VALUES (11, 210.00, 'Promoción de primavera', 11)\",\n",
    "    \"INSERT INTO offer (id, price, description, hotel_id) VALUES (12, 230.00, 'Descuento para grupos', 12)\",\n",
    "    \"INSERT INTO offer (id, price, description, hotel_id) VALUES (13, 240.00, 'Paquete de spa', 13)\",\n",
    "    \"INSERT INTO offer (id, price, description, hotel_id) VALUES (14, 250.00, 'Tarifa especial para deportistas', 14)\",\n",
    "    \"INSERT INTO offer (id, price, description, hotel_id) VALUES (15, 270.00, 'Promoción de verano', 15)\"\n",
    "]"
   ]
  },
  {
   "cell_type": "code",
   "execution_count": 22,
   "metadata": {},
   "outputs": [
    {
     "name": "stdout",
     "output_type": "stream",
     "text": [
      "Se han insertado 30 registros en la tabla OfferModel utilizando SQL.\n"
     ]
    }
   ],
   "source": [
    "# Ejecutar las inserciones SQL\n",
    "with engine.connect() as connection:\n",
    "    for sql_insert in offer_inserts:\n",
    "        connection.execute(text(sql_insert))\n",
    "    # Confirmar la transacción al finalizar las inserciones\n",
    "    connection.commit()\n",
    "\n",
    "print(\"Se han insertado 15 registros en la tabla OfferModel utilizando SQL.\")\n"
   ]
  },
  {
   "cell_type": "code",
   "execution_count": 57,
   "metadata": {},
   "outputs": [],
   "source": [
    "user_inserts = [\n",
    "    '''INSERT INTO \"user\" (id, username, name, phone, email, role, password, disabled) VALUES (0, 'admin', 'Admin', '123456789', 'admin@admin.com', 'admin', '$2b$12$J/Fu8tUAXR0wdi8SRx0YKu07LzefLIZ1p6XwHk9E7rvyT.AlQWSnW', False)''',\n",
    "    '''INSERT INTO \"user\" (id, username, name, phone, email, role, password, disabled) VALUES (1, 'user1', 'User One', '123456789', 'user1@example.com', 'tourist', '$2b$12$lni9uHl9CpZXX3/JPD4v1.upfzOhWZEVyz68UvvBOU7WIBVc9qfWq', False)''',\n",
    "    '''INSERT INTO \"user\" (id, username, name, phone, email, role, password, disabled) VALUES (2, 'user2', 'User Two', '234567890', 'user2@example.com', 'tourist', '$2b$12$lni9uHl9CpZXX3/JPD4v1.upfzOhWZEVyz68UvvBOU7WIBVc9qfWq', False)''',\n",
    "    '''INSERT INTO \"user\" (id, username, name, phone, email, role, password, disabled) VALUES (3, 'user3', 'User Three', '345678901', 'user3@example.com', 'tourist', '$2b$12$lni9uHl9CpZXX3/JPD4v1.upfzOhWZEVyz68UvvBOU7WIBVc9qfWq', False)''',\n",
    "    '''INSERT INTO \"user\" (id, username, name, phone, email, role, password, disabled) VALUES (4, 'user4', 'User Four', '456789012', 'user4@example.com', 'tourist', '$2b$12$lni9uHl9CpZXX3/JPD4v1.upfzOhWZEVyz68UvvBOU7WIBVc9qfWq', False)''',\n",
    "    '''INSERT INTO \"user\" (id, username, name, phone, email, role, password, disabled) VALUES (5, 'user5', 'User Five', '567890123', 'user5@example.com', 'tourist', '$2b$12$lni9uHl9CpZXX3/JPD4v1.upfzOhWZEVyz68UvvBOU7WIBVc9qfWq', False)''',\n",
    "    '''INSERT INTO \"user\" (id, username, name, phone, email, role, password, disabled) VALUES (6, 'user6', 'User Six', '678901234', 'user6@example.com', 'tourist', '$2b$12$lni9uHl9CpZXX3/JPD4v1.upfzOhWZEVyz68UvvBOU7WIBVc9qfWq', False)''',\n",
    "    '''INSERT INTO \"user\" (id, username, name, phone, email, role, password, disabled) VALUES (7, 'user7', 'User Seven', '789012345', 'user7@example.com', 'tourist', '$2b$12$lni9uHl9CpZXX3/JPD4v1.upfzOhWZEVyz68UvvBOU7WIBVc9qfWq', False)''',\n",
    "    '''INSERT INTO \"user\" (id, username, name, phone, email, role, password, disabled) VALUES (8, 'user8', 'User Eight', '890123456', 'user8@example.com', 'tourist', '$2b$12$lni9uHl9CpZXX3/JPD4v1.upfzOhWZEVyz68UvvBOU7WIBVc9qfWq', False)''',\n",
    "    '''INSERT INTO \"user\" (id, username, name, phone, email, role, password, disabled) VALUES (9, 'user9', 'User Nine', '901234567', 'user9@example.com', 'tourist', '$2b$12$lni9uHl9CpZXX3/JPD4v1.upfzOhWZEVyz68UvvBOU7WIBVc9qfWq', False)''',\n",
    "    '''INSERT INTO \"user\" (id, username, name, phone, email, role, password, disabled) VALUES (10, 'user10', 'User Ten', '012345678', 'user10@example.com', 'tourist', '$2b$12$lni9uHl9CpZXX3/JPD4v1.upfzOhWZEVyz68UvvBOU7WIBVc9qfWq', False)''',\n",
    "    '''INSERT INTO \"user\" (id, username, name, phone, email, role, password, disabled) VALUES (11, 'user11', 'User Eleven', '123456789', 'user11@example.com', 'tourist', '$2b$12$lni9uHl9CpZXX3/JPD4v1.upfzOhWZEVyz68UvvBOU7WIBVc9qfWq', False)''',\n",
    "    '''INSERT INTO \"user\" (id, username, name, phone, email, role, password, disabled) VALUES (12, 'user12', 'User Twelve', '234567890', 'user12@example.com', 'tourist', '$2b$12$lni9uHl9CpZXX3/JPD4v1.upfzOhWZEVyz68UvvBOU7WIBVc9qfWq', False)''',\n",
    "    '''INSERT INTO \"user\" (id, username, name, phone, email, role, password, disabled) VALUES (13, 'user13', 'User Thirteen', '345678901', 'user13@example.com', 'tourist', '$2b$12$lni9uHl9CpZXX3/JPD4v1.upfzOhWZEVyz68UvvBOU7WIBVc9qfWq', False)''',\n",
    "    '''INSERT INTO \"user\" (id, username, name, phone, email, role, password, disabled) VALUES (14, 'user14', 'User Fourteen', '456789012', 'user14@example.com', 'tourist', '$2b$12$lni9uHl9CpZXX3/JPD4v1.upfzOhWZEVyz68UvvBOU7WIBVc9qfWq', False)''',\n",
    "    '''INSERT INTO \"user\" (id, username, name, phone, email, role, password, disabled) VALUES (15, 'user15', 'User Fifteen', '567890123', 'user15@example.com', 'tourist', '$2b$12$lni9uHl9CpZXX3/JPD4v1.upfzOhWZEVyz68UvvBOU7WIBVc9qfWq', False)''',\n",
    "    '''INSERT INTO \"user\" (id, username, name, phone, email, role, password, disabled) VALUES (16, 'user16', 'User Sixteen', '678901234', 'user16@example.com', 'tourist', '$2b$12$lni9uHl9CpZXX3/JPD4v1.upfzOhWZEVyz68UvvBOU7WIBVc9qfWq', False)''',\n",
    "    '''INSERT INTO \"user\" (id, username, name, phone, email, role, password, disabled) VALUES (17, 'user17', 'User Seventeen', '789012345', 'user17@example.com', 'tourist', '$2b$12$lni9uHl9CpZXX3/JPD4v1.upfzOhWZEVyz68UvvBOU7WIBVc9qfWq', False)''',\n",
    "    '''INSERT INTO \"user\" (id, username, name, phone, email, role, password, disabled) VALUES (18, 'user18', 'User Eighteen', '890123456', 'user18@example.com', 'tourist', '$2b$12$lni9uHl9CpZXX3/JPD4v1.upfzOhWZEVyz68UvvBOU7WIBVc9qfWq', False)''',\n",
    "    '''INSERT INTO \"user\" (id, username, name, phone, email, role, password, disabled) VALUES (19, 'user19', 'User Nineteen', '901234567', 'user19@example.com', 'tourist', '$2b$12$lni9uHl9CpZXX3/JPD4v1.upfzOhWZEVyz68UvvBOU7WIBVc9qfWq', False)''',\n",
    "    '''INSERT INTO \"user\" (id, username, name, phone, email, role, password, disabled) VALUES (20, 'user20', 'User Twenty', '012345678', 'user20@example.com', 'tourist', '$2b$12$lni9uHl9CpZXX3/JPD4v1.upfzOhWZEVyz68UvvBOU7WIBVc9qfWq', False)''',\n",
    "    '''INSERT INTO \"user\" (id, username, name, phone, email, role, password, disabled) VALUES (21, 'user21', 'User Twenty-One', '123456789', 'user21@example.com', 'tourist', '$2b$12$lni9uHl9CpZXX3/JPD4v1.upfzOhWZEVyz68UvvBOU7WIBVc9qfWq', False)''',\n",
    "    '''INSERT INTO \"user\" (id, username, name, phone, email, role, password, disabled) VALUES (22, 'user22', 'User Twenty-Two', '234567890', 'user22@example.com', 'tourist', '$2b$12$lni9uHl9CpZXX3/JPD4v1.upfzOhWZEVyz68UvvBOU7WIBVc9qfWq', False)''',\n",
    "    '''INSERT INTO \"user\" (id, username, name, phone, email, role, password, disabled) VALUES (23, 'user23', 'User Twenty-Three', '345678901', 'user23@example.com', 'tourist', '$2b$12$lni9uHl9CpZXX3/JPD4v1.upfzOhWZEVyz68UvvBOU7WIBVc9qfWq', False)''',\n",
    "    '''INSERT INTO \"user\" (id, username, name, phone, email, role, password, disabled) VALUES (24, 'user24', 'User Twenty-Four', '456789012', 'user24@example.com', 'tourist', '$2b$12$lni9uHl9CpZXX3/JPD4v1.upfzOhWZEVyz68UvvBOU7WIBVc9qfWq', False)''',\n",
    "    '''INSERT INTO \"user\" (id, username, name, phone, email, role, password, disabled) VALUES (25, 'user25', 'User Twenty-Five', '567890123', 'user25@example.com', 'tourist', '$2b$12$lni9uHl9CpZXX3/JPD4v1.upfzOhWZEVyz68UvvBOU7WIBVc9qfWq', False)''',\n",
    "    '''INSERT INTO \"user\" (id, username, name, phone, email, role, password, disabled) VALUES (26, 'user26', 'User Twenty-Six', '678901234', 'user26@example.com', 'tourist', '$2b$12$lni9uHl9CpZXX3/JPD4v1.upfzOhWZEVyz68UvvBOU7WIBVc9qfWq', False)''',\n",
    "    '''INSERT INTO \"user\" (id, username, name, phone, email, role, password, disabled) VALUES (27, 'user27', 'User Twenty-Seven', '789012345', 'user27@example.com', 'tourist', '$2b$12$lni9uHl9CpZXX3/JPD4v1.upfzOhWZEVyz68UvvBOU7WIBVc9qfWq', False)''',\n",
    "    '''INSERT INTO \"user\" (id, username, name, phone, email, role, password, disabled) VALUES (28, 'user28', 'User Twenty-Eight', '890123456', 'user28@example.com', 'tourist', '$2b$12$lni9uHl9CpZXX3/JPD4v1.upfzOhWZEVyz68UvvBOU7WIBVc9qfWq', False)''',\n",
    "    '''INSERT INTO \"user\" (id, username, name, phone, email, role, password, disabled) VALUES (29, 'user29', 'User Twenty-Nine', '901234567', 'user29@example.com', 'tourist', '$2b$12$lni9uHl9CpZXX3/JPD4v1.upfzOhWZEVyz68UvvBOU7WIBVc9qfWq', False)''',\n",
    "    '''INSERT INTO \"user\" (id, username, name, phone, email, role, password, disabled) VALUES (30, 'user30', 'User Thirty', '012345678', 'user30@example.com', 'tourist', '$2b$12$lni9uHl9CpZXX3/JPD4v1.upfzOhWZEVyz68UvvBOU7WIBVc9qfWq', False)''',\n",
    "\n",
    "    '''INSERT INTO \"user\" (id, username, name, phone, email, role, password, disabled) VALUES (31, 'user31', 'User Thirty-One', '123456789', 'user31@example.com', 'marketing', '$2b$12$lni9uHl9CpZXX3/JPD4v1.upfzOhWZEVyz68UvvBOU7WIBVc9qfWq', False)''',\n",
    "    '''INSERT INTO \"user\" (id, username, name, phone, email, role, password, disabled) VALUES (32, 'user32', 'User Thirty-Two', '234567890', 'user32@example.com', 'marketing', '$2b$12$lni9uHl9CpZXX3/JPD4v1.upfzOhWZEVyz68UvvBOU7WIBVc9qfWq', False)''',\n",
    "    '''INSERT INTO \"user\" (id, username, name, phone, email, role, password, disabled) VALUES (33, 'user33', 'User Thirty-Three', '345678901', 'user33@example.com', 'marketing', '$2b$12$lni9uHl9CpZXX3/JPD4v1.upfzOhWZEVyz68UvvBOU7WIBVc9qfWq', False)''',\n",
    "    '''INSERT INTO \"user\" (id, username, name, phone, email, role, password, disabled) VALUES (34, 'user34', 'User Thirty-Four', '456789012', 'user34@example.com', 'marketing', '$2b$12$lni9uHl9CpZXX3/JPD4v1.upfzOhWZEVyz68UvvBOU7WIBVc9qfWq', False)''',\n",
    "    '''INSERT INTO \"user\" (id, username, name, phone, email, role, password, disabled) VALUES (35, 'user35', 'User Thirty-Five', '567890123', 'user35@example.com', 'marketing', '$2b$12$lni9uHl9CpZXX3/JPD4v1.upfzOhWZEVyz68UvvBOU7WIBVc9qfWq', False)''',\n",
    "    '''INSERT INTO \"user\" (id, username, name, phone, email, role, password, disabled) VALUES (36, 'user36', 'User Thirty-Six', '678901234', 'user36@example.com', 'marketing', '$2b$12$lni9uHl9CpZXX3/JPD4v1.upfzOhWZEVyz68UvvBOU7WIBVc9qfWq', False)''',\n",
    "    '''INSERT INTO \"user\" (id, username, name, phone, email, role, password, disabled) VALUES (37, 'user37', 'User Thirty-Seven', '789012345', 'user37@example.com', 'marketing', '$2b$12$lni9uHl9CpZXX3/JPD4v1.upfzOhWZEVyz68UvvBOU7WIBVc9qfWq', False)''',\n",
    "    '''INSERT INTO \"user\" (id, username, name, phone, email, role, password, disabled) VALUES (38, 'user38', 'User Thirty-Eight', '890123456', 'user38@example.com', 'marketing', '$2b$12$lni9uHl9CpZXX3/JPD4v1.upfzOhWZEVyz68UvvBOU7WIBVc9qfWq', False)''',\n",
    "    '''INSERT INTO \"user\" (id, username, name, phone, email, role, password, disabled) VALUES (39, 'user39', 'User Thirty-Nine', '901234567', 'user39@example.com', 'marketing', '$2b$12$lni9uHl9CpZXX3/JPD4v1.upfzOhWZEVyz68UvvBOU7WIBVc9qfWq', False)''',\n",
    "    '''INSERT INTO \"user\" (id, username, name, phone, email, role, password, disabled) VALUES (40, 'user40', 'User Forty', '012345678', 'user40@example.com', 'marketing', '$2b$12$lni9uHl9CpZXX3/JPD4v1.upfzOhWZEVyz68UvvBOU7WIBVc9qfWq', False)''',\n",
    "    '''INSERT INTO \"user\" (id, username, name, phone, email, role, password, disabled) VALUES (41, 'user41', 'User Forty-One', '123456789', 'user41@example.com', 'agent', '$2b$12$lni9uHl9CpZXX3/JPD4v1.upfzOhWZEVyz68UvvBOU7WIBVc9qfWq', False)''',\n",
    "    '''INSERT INTO \"user\" (id, username, name, phone, email, role, password, disabled) VALUES (42, 'user42', 'User Forty-Two', '234567890', 'user42@example.com', 'agent', '$2b$12$lni9uHl9CpZXX3/JPD4v1.upfzOhWZEVyz68UvvBOU7WIBVc9qfWq', False)''',\n",
    "    '''INSERT INTO \"user\" (id, username, name, phone, email, role, password, disabled) VALUES (43, 'user43', 'User Forty-Three', '345678901', 'user43@example.com', 'agent', '$2b$12$lni9uHl9CpZXX3/JPD4v1.upfzOhWZEVyz68UvvBOU7WIBVc9qfWq', False)''',\n",
    "    '''INSERT INTO \"user\" (id, username, name, phone, email, role, password, disabled) VALUES (44, 'user44', 'User Forty-Four', '456789012', 'user44@example.com', 'agent', '$2b$12$lni9uHl9CpZXX3/JPD4v1.upfzOhWZEVyz68UvvBOU7WIBVc9qfWq', False)''',\n",
    "    '''INSERT INTO \"user\" (id, username, name, phone, email, role, password, disabled) VALUES (45, 'user45', 'User Forty-Five', '567890123', 'user45@example.com', 'agent', '$2b$12$lni9uHl9CpZXX3/JPD4v1.upfzOhWZEVyz68UvvBOU7WIBVc9qfWq', False)''',\n",
    "    '''INSERT INTO \"user\" (id, username, name, phone, email, role, password, disabled) VALUES (46, 'user46', 'User Forty-Six', '678901234', 'user46@example.com', 'agent', '$2b$12$lni9uHl9CpZXX3/JPD4v1.upfzOhWZEVyz68UvvBOU7WIBVc9qfWq', False)''',\n",
    "    '''INSERT INTO \"user\" (id, username, name, phone, email, role, password, disabled) VALUES (47, 'user47', 'User Forty-Seven', '789012345', 'user47@example.com', 'agent', '$2b$12$lni9uHl9CpZXX3/JPD4v1.upfzOhWZEVyz68UvvBOU7WIBVc9qfWq', False)''',\n",
    "    '''INSERT INTO \"user\" (id, username, name, phone, email, role, password, disabled) VALUES (48, 'user48', 'User Forty-Eight', '890123456', 'user48@example.com', 'agent', '$2b$12$lni9uHl9CpZXX3/JPD4v1.upfzOhWZEVyz68UvvBOU7WIBVc9qfWq', False)''',\n",
    "    '''INSERT INTO \"user\" (id, username, name, phone, email, role, password, disabled) VALUES (49, 'user49', 'User Forty-Nine', '901234567', 'user49@example.com', 'agent', '$2b$12$lni9uHl9CpZXX3/JPD4v1.upfzOhWZEVyz68UvvBOU7WIBVc9qfWq', False)''',\n",
    "    '''INSERT INTO \"user\" (id, username, name, phone, email, role, password, disabled) VALUES (50, 'user50', 'User Fifty', '012345678', 'user50@example.com', 'agent', '$2b$12$lni9uHl9CpZXX3/JPD4v1.upfzOhWZEVyz68UvvBOU7WIBVc9qfWq', False)''',\n",
    "    '''INSERT INTO \"user\" (id, username, name, phone, email, role, password, disabled) VALUES (51, 'user51', 'User Fifty-One', '123456789', 'user51@example.com', 'marketing', '$2b$12$lni9uHl9CpZXX3/JPD4v1.upfzOhWZEVyz68UvvBOU7WIBVc9qfWq', False)''',\n",
    "    '''INSERT INTO \"user\" (id, username, name, phone, email, role, password, disabled) VALUES (52, 'user52', 'User Fifty-Two', '234567890', 'user52@example.com', 'marketing', '$2b$12$lni9uHl9CpZXX3/JPD4v1.upfzOhWZEVyz68UvvBOU7WIBVc9qfWq', False)''',\n",
    "    '''INSERT INTO \"user\" (id, username, name, phone, email, role, password, disabled) VALUES (53, 'user53', 'User Fifty-Three', '345678901', 'user53@example.com', 'marketing', '$2b$12$lni9uHl9CpZXX3/JPD4v1.upfzOhWZEVyz68UvvBOU7WIBVc9qfWq', False)''',\n",
    "    '''INSERT INTO \"user\" (id, username, name, phone, email, role, password, disabled) VALUES (54, 'user54', 'User Fifty-Four', '456789012', 'user54@example.com', 'marketing', '$2b$12$lni9uHl9CpZXX3/JPD4v1.upfzOhWZEVyz68UvvBOU7WIBVc9qfWq', False)''',\n",
    "    '''INSERT INTO \"user\" (id, username, name, phone, email, role, password, disabled) VALUES (55, 'user55', 'User Fifty-Five', '567890123', 'user55@example.com', 'marketing', '$2b$12$lni9uHl9CpZXX3/JPD4v1.upfzOhWZEVyz68UvvBOU7WIBVc9qfWq', False)''',\n",
    "    '''INSERT INTO \"user\" (id, username, name, phone, email, role, password, disabled) VALUES (56, 'user56', 'User Fifty-Six', '678901234', 'user56@example.com', 'marketing', '$2b$12$lni9uHl9CpZXX3/JPD4v1.upfzOhWZEVyz68UvvBOU7WIBVc9qfWq', False)''',\n",
    "    '''INSERT INTO \"user\" (id, username, name, phone, email, role, password, disabled) VALUES (57, 'user57', 'User Fifty-Seven', '789012345', 'user57@example.com', 'marketing', '$2b$12$lni9uHl9CpZXX3/JPD4v1.upfzOhWZEVyz68UvvBOU7WIBVc9qfWq', False)''',\n",
    "    '''INSERT INTO \"user\" (id, username, name, phone, email, role, password, disabled) VALUES (58, 'user58', 'User Fifty-Eight', '890123456', 'user58@example.com', 'marketing', '$2b$12$lni9uHl9CpZXX3/JPD4v1.upfzOhWZEVyz68UvvBOU7WIBVc9qfWq', False)''',\n",
    "    '''INSERT INTO \"user\" (id, username, name, phone, email, role, password, disabled) VALUES (59, 'user59', 'User Fifty-Nine', '901234567', 'user59@example.com', 'marketing', '$2b$12$lni9uHl9CpZXX3/JPD4v1.upfzOhWZEVyz68UvvBOU7WIBVc9qfWq', False)''',\n",
    "    '''INSERT INTO \"user\" (id, username, name, phone, email, role, password, disabled) VALUES (60, 'user60', 'User Sixty', '012345678', 'user60@example.com', 'marketing', '$2b$12$lni9uHl9CpZXX3/JPD4v1.upfzOhWZEVyz68UvvBOU7WIBVc9qfWq', False)'''\n",
    "]\n",
    "\n",
    "\n"
   ]
  },
  {
   "cell_type": "code",
   "execution_count": 58,
   "metadata": {},
   "outputs": [
    {
     "name": "stdout",
     "output_type": "stream",
     "text": [
      "Se han insertado 30 registros en la tabla UserModel utilizando SQL.\n"
     ]
    }
   ],
   "source": [
    "# Ejecutar las inserciones SQL\n",
    "with engine.connect() as connection:\n",
    "    for sql_insert in user_inserts:\n",
    "        connection.execute(text(sql_insert))\n",
    "    # Confirmar la transacción al finalizar las inserciones\n",
    "    connection.commit()\n",
    "\n",
    "print(\"Se han insertado 60 registros en la tabla UserModel utilizando SQL.\")"
   ]
  },
  {
   "cell_type": "code",
   "execution_count": 59,
   "metadata": {},
   "outputs": [],
   "source": [
    "tourist_inserts = [\n",
    "    \"INSERT INTO tourist (id, nationality) VALUES (1, 'USA')\",\n",
    "    \"INSERT INTO tourist (id, nationality) VALUES (2, 'UK')\",\n",
    "    \"INSERT INTO tourist (id, nationality) VALUES (3, 'Germany')\",\n",
    "    \"INSERT INTO tourist (id, nationality) VALUES (4, 'France')\",\n",
    "    \"INSERT INTO tourist (id, nationality) VALUES (5, 'Spain')\",\n",
    "    \"INSERT INTO tourist (id, nationality) VALUES (6, 'Italy')\",\n",
    "    \"INSERT INTO tourist (id, nationality) VALUES (7, 'China')\",\n",
    "    \"INSERT INTO tourist (id, nationality) VALUES (8, 'Japan')\",\n",
    "    \"INSERT INTO tourist (id, nationality) VALUES (9, 'Brazil')\",\n",
    "    \"INSERT INTO tourist (id, nationality) VALUES (10, 'Canada')\",\n",
    "    \"INSERT INTO tourist (id, nationality) VALUES (11, 'Mexico')\",\n",
    "    \"INSERT INTO tourist (id, nationality) VALUES (12, 'Australia')\",\n",
    "    \"INSERT INTO tourist (id, nationality) VALUES (13, 'Russia')\",\n",
    "    \"INSERT INTO tourist (id, nationality) VALUES (14, 'India')\",\n",
    "    \"INSERT INTO tourist (id, nationality) VALUES (15, 'South Korea')\",\n",
    "    \"INSERT INTO tourist (id, nationality) VALUES (16, 'Netherlands')\",\n",
    "    \"INSERT INTO tourist (id, nationality) VALUES (17, 'Sweden')\",\n",
    "    \"INSERT INTO tourist (id, nationality) VALUES (18, 'Norway')\",\n",
    "    \"INSERT INTO tourist (id, nationality) VALUES (19, 'Switzerland')\",\n",
    "    \"INSERT INTO tourist (id, nationality) VALUES (20, 'Denmark')\",\n",
    "    \"INSERT INTO tourist (id, nationality) VALUES (21, 'Austria')\",\n",
    "    \"INSERT INTO tourist (id, nationality) VALUES (22, 'Belgium')\",\n",
    "    \"INSERT INTO tourist (id, nationality) VALUES (23, 'Finland')\",\n",
    "    \"INSERT INTO tourist (id, nationality) VALUES (24, 'Ireland')\",\n",
    "    \"INSERT INTO tourist (id, nationality) VALUES (25, 'Portugal')\",\n",
    "    \"INSERT INTO tourist (id, nationality) VALUES (26, 'Poland')\",\n",
    "    \"INSERT INTO tourist (id, nationality) VALUES (27, 'Czech Republic')\",\n",
    "    \"INSERT INTO tourist (id, nationality) VALUES (28, 'Turkey')\",\n",
    "    \"INSERT INTO tourist (id, nationality) VALUES (29, 'Greece')\",\n",
    "    \"INSERT INTO tourist (id, nationality) VALUES (30, 'South Africa')\"\n",
    "]\n"
   ]
  },
  {
   "cell_type": "code",
   "execution_count": 60,
   "metadata": {},
   "outputs": [
    {
     "name": "stdout",
     "output_type": "stream",
     "text": [
      "Se han insertado 30 registros en la tabla TouristModel utilizando SQL.\n"
     ]
    }
   ],
   "source": [
    "# Ejecutar las inserciones SQL\n",
    "with engine.connect() as connection:\n",
    "    for sql_insert in tourist_inserts:\n",
    "        connection.execute(text(sql_insert))\n",
    "    # Confirmar la transacción al finalizar las inserciones\n",
    "    connection.commit()\n",
    "\n",
    "print(\"Se han insertado 30 registros en la tabla TouristModel utilizando SQL.\")"
   ]
  },
  {
   "cell_type": "code",
   "execution_count": 61,
   "metadata": {},
   "outputs": [],
   "source": [
    "agent_inserts = [\n",
    "    \"INSERT INTO agent (id, agency_id) VALUES (31, 1)\",\n",
    "    \"INSERT INTO agent (id, agency_id) VALUES (32, 2)\",\n",
    "    \"INSERT INTO agent (id, agency_id) VALUES (33, 3)\",\n",
    "    \"INSERT INTO agent (id, agency_id) VALUES (34, 4)\",\n",
    "    \"INSERT INTO agent (id, agency_id) VALUES (35, 5)\",\n",
    "    \"INSERT INTO agent (id, agency_id) VALUES (36, 6)\",\n",
    "    \"INSERT INTO agent (id, agency_id) VALUES (37, 7)\",\n",
    "    \"INSERT INTO agent (id, agency_id) VALUES (38, 8)\",\n",
    "    \"INSERT INTO agent (id, agency_id) VALUES (39, 9)\",\n",
    "    \"INSERT INTO agent (id, agency_id) VALUES (40, 10)\",\n",
    "    \"INSERT INTO agent (id, agency_id) VALUES (41, 11)\",\n",
    "    \"INSERT INTO agent (id, agency_id) VALUES (42, 12)\",\n",
    "    \"INSERT INTO agent (id, agency_id) VALUES (43, 13)\",\n",
    "    \"INSERT INTO agent (id, agency_id) VALUES (44, 14)\",\n",
    "    \"INSERT INTO agent (id, agency_id) VALUES (45, 15)\",\n",
    "    \"INSERT INTO agent (id, agency_id) VALUES (46, 16)\",\n",
    "    \"INSERT INTO agent (id, agency_id) VALUES (47, 17)\",\n",
    "    \"INSERT INTO agent (id, agency_id) VALUES (48, 18)\",\n",
    "    \"INSERT INTO agent (id, agency_id) VALUES (49, 19)\",\n",
    "    \"INSERT INTO agent (id, agency_id) VALUES (50, 20)\",\n",
    "    \"INSERT INTO agent (id, agency_id) VALUES (51, 21)\",\n",
    "    \"INSERT INTO agent (id, agency_id) VALUES (52, 22)\",\n",
    "    \"INSERT INTO agent (id, agency_id) VALUES (53, 23)\",\n",
    "    \"INSERT INTO agent (id, agency_id) VALUES (54, 24)\",\n",
    "    \"INSERT INTO agent (id, agency_id) VALUES (55, 25)\",\n",
    "    \"INSERT INTO agent (id, agency_id) VALUES (56, 26)\",\n",
    "    \"INSERT INTO agent (id, agency_id) VALUES (57, 27)\",\n",
    "    \"INSERT INTO agent (id, agency_id) VALUES (58, 28)\",\n",
    "    \"INSERT INTO agent (id, agency_id) VALUES (59, 29)\",\n",
    "    \"INSERT INTO agent (id, agency_id) VALUES (60, 30)\"\n",
    "]\n"
   ]
  },
  {
   "cell_type": "code",
   "execution_count": 62,
   "metadata": {},
   "outputs": [
    {
     "name": "stdout",
     "output_type": "stream",
     "text": [
      "Se han insertado 30 registros en la tabla AgentModel utilizando SQL.\n"
     ]
    }
   ],
   "source": [
    "# Ejecutar las inserciones SQL\n",
    "with engine.connect() as connection:\n",
    "    for sql_insert in agent_inserts:\n",
    "        connection.execute(text(sql_insert))\n",
    "    # Confirmar la transacción al finalizar las inserciones\n",
    "    connection.commit()\n",
    "\n",
    "print(\"Se han insertado 30 registros en la tabla AgentModel utilizando SQL.\")"
   ]
  },
  {
   "cell_type": "code",
   "execution_count": 32,
   "metadata": {},
   "outputs": [],
   "source": [
    "agency_excursion_association_inserts = [\n",
    "    \"INSERT INTO agency_excursion_association (agency_id, excursion_id) VALUES (1, 1)\",\n",
    "    \"INSERT INTO agency_excursion_association (agency_id, excursion_id) VALUES (2, 2)\",\n",
    "    \"INSERT INTO agency_excursion_association (agency_id, excursion_id) VALUES (3, 3)\",\n",
    "    \"INSERT INTO agency_excursion_association (agency_id, excursion_id) VALUES (4, 4)\",\n",
    "    \"INSERT INTO agency_excursion_association (agency_id, excursion_id) VALUES (5, 5)\",\n",
    "    \"INSERT INTO agency_excursion_association (agency_id, excursion_id) VALUES (6, 6)\",\n",
    "    \"INSERT INTO agency_excursion_association (agency_id, excursion_id) VALUES (7, 7)\",\n",
    "    \"INSERT INTO agency_excursion_association (agency_id, excursion_id) VALUES (8, 8)\",\n",
    "    \"INSERT INTO agency_excursion_association (agency_id, excursion_id) VALUES (9, 9)\",\n",
    "    \"INSERT INTO agency_excursion_association (agency_id, excursion_id) VALUES (10, 10)\",\n",
    "    \"INSERT INTO agency_excursion_association (agency_id, excursion_id) VALUES (11, 11)\",\n",
    "    \"INSERT INTO agency_excursion_association (agency_id, excursion_id) VALUES (12, 12)\",\n",
    "    \"INSERT INTO agency_excursion_association (agency_id, excursion_id) VALUES (13, 13)\",\n",
    "    \"INSERT INTO agency_excursion_association (agency_id, excursion_id) VALUES (14, 14)\",\n",
    "    \"INSERT INTO agency_excursion_association (agency_id, excursion_id) VALUES (15, 15)\"\n",
    "]\n"
   ]
  },
  {
   "cell_type": "code",
   "execution_count": 33,
   "metadata": {},
   "outputs": [
    {
     "name": "stdout",
     "output_type": "stream",
     "text": [
      "Se han insertado 30 registros en la tabla AgencyExcursionAssociationModel utilizando SQL.\n"
     ]
    }
   ],
   "source": [
    "# Ejecutar las inserciones SQL\n",
    "with engine.connect() as connection:\n",
    "    for sql_insert in agency_excursion_association_inserts:\n",
    "        connection.execute(text(sql_insert))\n",
    "    # Confirmar la transacción al finalizar las inserciones\n",
    "    connection.commit()\n",
    "\n",
    "print(\"Se han insertado 15 registros en la tabla AgencyExcursionAssociationModel utilizando SQL.\")"
   ]
  },
  {
   "cell_type": "code",
   "execution_count": 34,
   "metadata": {},
   "outputs": [],
   "source": [
    "agency_offer_association_inserts = [\n",
    "    \"INSERT INTO agency_offer_association (agency_id, offer_id, price) VALUES (1, 1, 100.00)\",\n",
    "    \"INSERT INTO agency_offer_association (agency_id, offer_id, price) VALUES (2, 2, 110.00)\",\n",
    "    \"INSERT INTO agency_offer_association (agency_id, offer_id, price) VALUES (3, 3, 120.00)\",\n",
    "    \"INSERT INTO agency_offer_association (agency_id, offer_id, price) VALUES (4, 4, 130.00)\",\n",
    "    \"INSERT INTO agency_offer_association (agency_id, offer_id, price) VALUES (5, 5, 140.00)\",\n",
    "    \"INSERT INTO agency_offer_association (agency_id, offer_id, price) VALUES (6, 6, 150.00)\",\n",
    "    \"INSERT INTO agency_offer_association (agency_id, offer_id, price) VALUES (7, 7, 160.00)\",\n",
    "    \"INSERT INTO agency_offer_association (agency_id, offer_id, price) VALUES (8, 8, 170.00)\",\n",
    "    \"INSERT INTO agency_offer_association (agency_id, offer_id, price) VALUES (9, 9, 180.00)\",\n",
    "    \"INSERT INTO agency_offer_association (agency_id, offer_id, price) VALUES (10, 10, 190.00)\",\n",
    "    \"INSERT INTO agency_offer_association (agency_id, offer_id, price) VALUES (11, 11, 200.00)\",\n",
    "    \"INSERT INTO agency_offer_association (agency_id, offer_id, price) VALUES (12, 12, 210.00)\",\n",
    "    \"INSERT INTO agency_offer_association (agency_id, offer_id, price) VALUES (13, 13, 220.00)\",\n",
    "    \"INSERT INTO agency_offer_association (agency_id, offer_id, price) VALUES (14, 14, 230.00)\",\n",
    "    \"INSERT INTO agency_offer_association (agency_id, offer_id, price) VALUES (15, 15, 240.00)\",\n",
    "    \"INSERT INTO agency_offer_association (agency_id, offer_id, price) VALUES (16, 1, 250.00)\",\n",
    "    \"INSERT INTO agency_offer_association (agency_id, offer_id, price) VALUES (17, 2, 260.00)\",\n",
    "    \"INSERT INTO agency_offer_association (agency_id, offer_id, price) VALUES (18, 3, 270.00)\",\n",
    "    \"INSERT INTO agency_offer_association (agency_id, offer_id, price) VALUES (19, 4, 280.00)\",\n",
    "    \"INSERT INTO agency_offer_association (agency_id, offer_id, price) VALUES (20, 5, 290.00)\",\n",
    "    \"INSERT INTO agency_offer_association (agency_id, offer_id, price) VALUES (21, 6, 300.00)\",\n",
    "    \"INSERT INTO agency_offer_association (agency_id, offer_id, price) VALUES (22, 7, 310.00)\",\n",
    "    \"INSERT INTO agency_offer_association (agency_id, offer_id, price) VALUES (23, 8, 320.00)\",\n",
    "    \"INSERT INTO agency_offer_association (agency_id, offer_id, price) VALUES (24, 9, 330.00)\",\n",
    "    \"INSERT INTO agency_offer_association (agency_id, offer_id, price) VALUES (25, 10, 340.00)\",\n",
    "    \"INSERT INTO agency_offer_association (agency_id, offer_id, price) VALUES (26, 11, 350.00)\",\n",
    "    \"INSERT INTO agency_offer_association (agency_id, offer_id, price) VALUES (27, 12, 360.00)\",\n",
    "    \"INSERT INTO agency_offer_association (agency_id, offer_id, price) VALUES (28, 13, 370.00)\",\n",
    "    \"INSERT INTO agency_offer_association (agency_id, offer_id, price) VALUES (29, 14, 380.00)\",\n",
    "    \"INSERT INTO agency_offer_association (agency_id, offer_id, price) VALUES (30, 15, 390.00)\"\n",
    "]\n"
   ]
  },
  {
   "cell_type": "code",
   "execution_count": 35,
   "metadata": {},
   "outputs": [
    {
     "name": "stdout",
     "output_type": "stream",
     "text": [
      "Se han insertado 30 registros en la tabla AgencyOfferAssociation utilizando SQL.\n"
     ]
    }
   ],
   "source": [
    "# Ejecutar las inserciones SQL\n",
    "with engine.connect() as connection:\n",
    "    for sql_insert in agency_offer_association_inserts:\n",
    "        connection.execute(text(sql_insert))\n",
    "    # Confirmar la transacción al finalizar las inserciones\n",
    "    connection.commit()\n",
    "\n",
    "print(\"Se han insertado 30 registros en la tabla AgencyOfferAssociation utilizando SQL.\")"
   ]
  },
  {
   "cell_type": "code",
   "execution_count": 63,
   "metadata": {},
   "outputs": [],
   "source": [
    "excursion_reservation_inserts = [\n",
    "    \"INSERT INTO excursion_reservation (tourist_id, excursion_id, reservation_date, amount_of_people, air_line) VALUES (1, 1, '2024-03-25', 2, 'Airline A')\",\n",
    "    \"INSERT INTO excursion_reservation (tourist_id, excursion_id, reservation_date, amount_of_people, air_line) VALUES (2, 2, '2024-03-26', 3, 'Airline B')\",\n",
    "    \"INSERT INTO excursion_reservation (tourist_id, excursion_id, reservation_date, amount_of_people, air_line) VALUES (3, 3, '2024-03-27', 4, 'Airline C')\",\n",
    "    \"INSERT INTO excursion_reservation (tourist_id, excursion_id, reservation_date, amount_of_people, air_line) VALUES (4, 4, '2024-03-28', 2, 'Airline D')\",\n",
    "    \"INSERT INTO excursion_reservation (tourist_id, excursion_id, reservation_date, amount_of_people, air_line) VALUES (5, 5, '2024-03-29', 3, 'Airline E')\",\n",
    "    \"INSERT INTO excursion_reservation (tourist_id, excursion_id, reservation_date, amount_of_people, air_line) VALUES (6, 6, '2024-03-30', 4, 'Airline F')\",\n",
    "    \"INSERT INTO excursion_reservation (tourist_id, excursion_id, reservation_date, amount_of_people, air_line) VALUES (7, 7, '2024-03-31', 2, 'Airline G')\",\n",
    "    \"INSERT INTO excursion_reservation (tourist_id, excursion_id, reservation_date, amount_of_people, air_line) VALUES (8, 8, '2024-04-01', 3, 'Airline H')\",\n",
    "    \"INSERT INTO excursion_reservation (tourist_id, excursion_id, reservation_date, amount_of_people, air_line) VALUES (9, 9, '2024-04-02', 4, 'Airline I')\",\n",
    "    \"INSERT INTO excursion_reservation (tourist_id, excursion_id, reservation_date, amount_of_people, air_line) VALUES (10, 10, '2024-04-03', 2, 'Airline J')\",\n",
    "    \"INSERT INTO excursion_reservation (tourist_id, excursion_id, reservation_date, amount_of_people, air_line) VALUES (11, 11, '2024-04-04', 3, 'Airline K')\",\n",
    "    \"INSERT INTO excursion_reservation (tourist_id, excursion_id, reservation_date, amount_of_people, air_line) VALUES (12, 12, '2024-04-05', 4, 'Airline L')\",\n",
    "    \"INSERT INTO excursion_reservation (tourist_id, excursion_id, reservation_date, amount_of_people, air_line) VALUES (13, 13, '2024-04-06', 2, 'Airline M')\",\n",
    "    \"INSERT INTO excursion_reservation (tourist_id, excursion_id, reservation_date, amount_of_people, air_line) VALUES (14, 14, '2024-04-07', 3, 'Airline N')\",\n",
    "    \"INSERT INTO excursion_reservation (tourist_id, excursion_id, reservation_date, amount_of_people, air_line) VALUES (15, 15, '2024-04-08', 4, 'Airline O')\"\n",
    "]\n"
   ]
  },
  {
   "cell_type": "code",
   "execution_count": 64,
   "metadata": {},
   "outputs": [
    {
     "name": "stdout",
     "output_type": "stream",
     "text": [
      "Se han insertado 30 registros en la tabla ExcursionReservation utilizando SQL.\n"
     ]
    }
   ],
   "source": [
    "# Ejecutar las inserciones SQL\n",
    "with engine.connect() as connection:\n",
    "    for sql_insert in excursion_reservation_inserts:\n",
    "        connection.execute(text(sql_insert))\n",
    "    # Confirmar la transacción al finalizar las inserciones\n",
    "    connection.commit()\n",
    "\n",
    "print(\"Se han insertado 15 registros en la tabla ExcursionReservation utilizando SQL.\")"
   ]
  },
  {
   "cell_type": "code",
   "execution_count": 65,
   "metadata": {},
   "outputs": [],
   "source": [
    "tourist_type_tourist_association_inserts = [\n",
    "    \"INSERT INTO tourist_type_tourist_association (tourist_type_id, tourist_id) VALUES (1, 1)\",\n",
    "    \"INSERT INTO tourist_type_tourist_association (tourist_type_id, tourist_id) VALUES (2, 2)\",\n",
    "    \"INSERT INTO tourist_type_tourist_association (tourist_type_id, tourist_id) VALUES (3, 3)\",\n",
    "    \"INSERT INTO tourist_type_tourist_association (tourist_type_id, tourist_id) VALUES (4, 4)\",\n",
    "    \"INSERT INTO tourist_type_tourist_association (tourist_type_id, tourist_id) VALUES (5, 5)\",\n",
    "    \"INSERT INTO tourist_type_tourist_association (tourist_type_id, tourist_id) VALUES (6, 6)\",\n",
    "    \"INSERT INTO tourist_type_tourist_association (tourist_type_id, tourist_id) VALUES (7, 7)\",\n",
    "    \"INSERT INTO tourist_type_tourist_association (tourist_type_id, tourist_id) VALUES (8, 8)\",\n",
    "    \"INSERT INTO tourist_type_tourist_association (tourist_type_id, tourist_id) VALUES (9, 9)\",\n",
    "    \"INSERT INTO tourist_type_tourist_association (tourist_type_id, tourist_id) VALUES (10, 10)\",\n",
    "    \"INSERT INTO tourist_type_tourist_association (tourist_type_id, tourist_id) VALUES (11, 11)\",\n",
    "    \"INSERT INTO tourist_type_tourist_association (tourist_type_id, tourist_id) VALUES (12, 12)\",\n",
    "    \"INSERT INTO tourist_type_tourist_association (tourist_type_id, tourist_id) VALUES (13, 13)\",\n",
    "    \"INSERT INTO tourist_type_tourist_association (tourist_type_id, tourist_id) VALUES (14, 14)\",\n",
    "    \"INSERT INTO tourist_type_tourist_association (tourist_type_id, tourist_id) VALUES (15, 15)\",\n",
    "    \"INSERT INTO tourist_type_tourist_association (tourist_type_id, tourist_id) VALUES (16, 16)\",\n",
    "    \"INSERT INTO tourist_type_tourist_association (tourist_type_id, tourist_id) VALUES (17, 17)\",\n",
    "    \"INSERT INTO tourist_type_tourist_association (tourist_type_id, tourist_id) VALUES (18, 18)\",\n",
    "    \"INSERT INTO tourist_type_tourist_association (tourist_type_id, tourist_id) VALUES (19, 19)\",\n",
    "    \"INSERT INTO tourist_type_tourist_association (tourist_type_id, tourist_id) VALUES (20, 20)\",\n",
    "    \"INSERT INTO tourist_type_tourist_association (tourist_type_id, tourist_id) VALUES (21, 21)\",\n",
    "    \"INSERT INTO tourist_type_tourist_association (tourist_type_id, tourist_id) VALUES (22, 22)\",\n",
    "    \"INSERT INTO tourist_type_tourist_association (tourist_type_id, tourist_id) VALUES (23, 23)\",\n",
    "    \"INSERT INTO tourist_type_tourist_association (tourist_type_id, tourist_id) VALUES (24, 24)\",\n",
    "    \"INSERT INTO tourist_type_tourist_association (tourist_type_id, tourist_id) VALUES (25, 25)\",\n",
    "    \"INSERT INTO tourist_type_tourist_association (tourist_type_id, tourist_id) VALUES (26, 26)\",\n",
    "    \"INSERT INTO tourist_type_tourist_association (tourist_type_id, tourist_id) VALUES (27, 27)\",\n",
    "    \"INSERT INTO tourist_type_tourist_association (tourist_type_id, tourist_id) VALUES (28, 28)\",\n",
    "    \"INSERT INTO tourist_type_tourist_association (tourist_type_id, tourist_id) VALUES (29, 29)\",\n",
    "    \"INSERT INTO tourist_type_tourist_association (tourist_type_id, tourist_id) VALUES (30, 30)\"\n",
    "]\n"
   ]
  },
  {
   "cell_type": "code",
   "execution_count": 66,
   "metadata": {},
   "outputs": [
    {
     "name": "stdout",
     "output_type": "stream",
     "text": [
      "Se han insertado 30 registros en la tabla TouristTypeTouristAssociation utilizando SQL.\n"
     ]
    }
   ],
   "source": [
    "# Ejecutar las inserciones SQL\n",
    "with engine.connect() as connection:\n",
    "    for sql_insert in tourist_type_tourist_association_inserts:\n",
    "        connection.execute(text(sql_insert))\n",
    "    # Confirmar la transacción al finalizar las inserciones\n",
    "    connection.commit()\n",
    "\n",
    "print(\"Se han insertado 30 registros en la tabla TouristTypeTouristAssociation utilizando SQL.\")"
   ]
  },
  {
   "cell_type": "code",
   "execution_count": 38,
   "metadata": {},
   "outputs": [],
   "source": [
    "hotel_extended_excursion_association_inserts = [\n",
    "    \"INSERT INTO hotel_extended_excursion_association (hotel_id, extended_excursion_id, departure_date, arrival_date) VALUES (1, 31, '2024-04-01', '2024-04-03')\",\n",
    "    \"INSERT INTO hotel_extended_excursion_association (hotel_id, extended_excursion_id, departure_date, arrival_date) VALUES (2, 32, '2024-04-02', '2024-04-04')\",\n",
    "    \"INSERT INTO hotel_extended_excursion_association (hotel_id, extended_excursion_id, departure_date, arrival_date) VALUES (3, 33, '2024-04-03', '2024-04-05')\",\n",
    "    \"INSERT INTO hotel_extended_excursion_association (hotel_id, extended_excursion_id, departure_date, arrival_date) VALUES (4, 34, '2024-04-04', '2024-04-06')\",\n",
    "    \"INSERT INTO hotel_extended_excursion_association (hotel_id, extended_excursion_id, departure_date, arrival_date) VALUES (5, 35, '2024-04-05', '2024-04-07')\",\n",
    "    \"INSERT INTO hotel_extended_excursion_association (hotel_id, extended_excursion_id, departure_date, arrival_date) VALUES (6, 36, '2024-04-06', '2024-04-08')\",\n",
    "    \"INSERT INTO hotel_extended_excursion_association (hotel_id, extended_excursion_id, departure_date, arrival_date) VALUES (7, 37, '2024-04-07', '2024-04-09')\",\n",
    "    \"INSERT INTO hotel_extended_excursion_association (hotel_id, extended_excursion_id, departure_date, arrival_date) VALUES (8, 38, '2024-04-08', '2024-04-10')\",\n",
    "    \"INSERT INTO hotel_extended_excursion_association (hotel_id, extended_excursion_id, departure_date, arrival_date) VALUES (9, 39, '2024-04-09', '2024-04-11')\",\n",
    "    \"INSERT INTO hotel_extended_excursion_association (hotel_id, extended_excursion_id, departure_date, arrival_date) VALUES (10, 40, '2024-04-10', '2024-04-12')\",\n",
    "    \"INSERT INTO hotel_extended_excursion_association (hotel_id, extended_excursion_id, departure_date, arrival_date) VALUES (11, 41, '2024-04-11', '2024-04-13')\",\n",
    "    \"INSERT INTO hotel_extended_excursion_association (hotel_id, extended_excursion_id, departure_date, arrival_date) VALUES (12, 42, '2024-04-12', '2024-04-14')\",\n",
    "    \"INSERT INTO hotel_extended_excursion_association (hotel_id, extended_excursion_id, departure_date, arrival_date) VALUES (13, 43, '2024-04-13', '2024-04-15')\",\n",
    "    \"INSERT INTO hotel_extended_excursion_association (hotel_id, extended_excursion_id, departure_date, arrival_date) VALUES (14, 44, '2024-04-14', '2024-04-16')\",\n",
    "    \"INSERT INTO hotel_extended_excursion_association (hotel_id, extended_excursion_id, departure_date, arrival_date) VALUES (15, 45, '2024-04-15', '2024-04-17')\",\n",
    "    \"INSERT INTO hotel_extended_excursion_association (hotel_id, extended_excursion_id, departure_date, arrival_date) VALUES (16, 46, '2024-04-16', '2024-04-18')\",\n",
    "    \"INSERT INTO hotel_extended_excursion_association (hotel_id, extended_excursion_id, departure_date, arrival_date) VALUES (17, 47, '2024-04-17', '2024-04-19')\",\n",
    "    \"INSERT INTO hotel_extended_excursion_association (hotel_id, extended_excursion_id, departure_date, arrival_date) VALUES (18, 48, '2024-04-18', '2024-04-20')\",\n",
    "    \"INSERT INTO hotel_extended_excursion_association (hotel_id, extended_excursion_id, departure_date, arrival_date) VALUES (19, 49, '2024-04-19', '2024-04-21')\",\n",
    "    \"INSERT INTO hotel_extended_excursion_association (hotel_id, extended_excursion_id, departure_date, arrival_date) VALUES (20, 50, '2024-04-20', '2024-04-22')\",\n",
    "    \"INSERT INTO hotel_extended_excursion_association (hotel_id, extended_excursion_id, departure_date, arrival_date) VALUES (21, 51, '2024-04-21', '2024-04-23')\",\n",
    "    \"INSERT INTO hotel_extended_excursion_association (hotel_id, extended_excursion_id, departure_date, arrival_date) VALUES (22, 52, '2024-04-22', '2024-04-24')\",\n",
    "    \"INSERT INTO hotel_extended_excursion_association (hotel_id, extended_excursion_id, departure_date, arrival_date) VALUES (23, 53, '2024-04-23', '2024-04-25')\",\n",
    "    \"INSERT INTO hotel_extended_excursion_association (hotel_id, extended_excursion_id, departure_date, arrival_date) VALUES (24, 54, '2024-04-24', '2024-04-26')\",\n",
    "    \"INSERT INTO hotel_extended_excursion_association (hotel_id, extended_excursion_id, departure_date, arrival_date) VALUES (25, 55, '2024-04-25', '2024-04-27')\",\n",
    "    \"INSERT INTO hotel_extended_excursion_association (hotel_id, extended_excursion_id, departure_date, arrival_date) VALUES (26, 56, '2024-04-26', '2024-04-28')\",\n",
    "    \"INSERT INTO hotel_extended_excursion_association (hotel_id, extended_excursion_id, departure_date, arrival_date) VALUES (27, 57, '2024-04-27', '2024-04-29')\",\n",
    "    \"INSERT INTO hotel_extended_excursion_association (hotel_id, extended_excursion_id, departure_date, arrival_date) VALUES (28, 58, '2024-04-28', '2024-04-30')\",\n",
    "    \"INSERT INTO hotel_extended_excursion_association (hotel_id, extended_excursion_id, departure_date, arrival_date) VALUES (29, 59, '2024-04-29', '2024-05-01')\",\n",
    "    \"INSERT INTO hotel_extended_excursion_association (hotel_id, extended_excursion_id, departure_date, arrival_date) VALUES (30, 60, '2024-04-30', '2024-05-02')\"\n",
    "]\n",
    "\n"
   ]
  },
  {
   "cell_type": "code",
   "execution_count": 39,
   "metadata": {},
   "outputs": [
    {
     "name": "stdout",
     "output_type": "stream",
     "text": [
      "Se han insertado 30 registros en la tabla HotelExtendedExcursionAssociation utilizando SQL.\n"
     ]
    }
   ],
   "source": [
    "# Ejecutar las inserciones SQL\n",
    "with engine.connect() as connection:\n",
    "    for sql_insert in hotel_extended_excursion_association_inserts:\n",
    "        connection.execute(text(sql_insert))\n",
    "    # Confirmar la transacción al finalizar las inserciones\n",
    "    connection.commit()\n",
    "\n",
    "print(\"Se han insertado 30 registros en la tabla HotelExtendedExcursionAssociation utilizando SQL.\")"
   ]
  },
  {
   "cell_type": "code",
   "execution_count": 40,
   "metadata": {},
   "outputs": [],
   "source": [
    "package_inserts = [\n",
    "    \"INSERT INTO package (id, agency_id, extended_excursion_id, duration, description, price, photo_url) VALUES (1, 31, 31, 3, 'Package 1', 200.0, 'https://www.elsoldesinaloa.com.mx/circulos/ftn20z-semana-santa-playa-vacaciones/ALTERNATES/LANDSCAPE_768/semana-santa-playa-vacaciones')\",\n",
    "    \"INSERT INTO package (id, agency_id, extended_excursion_id, duration, description, price, photo_url) VALUES (2, 32, 32, 4, 'Package 2', 250.0, 'https://i.pinimg.com/736x/0d/51/c3/0d51c3419cef4dec9899cf0f2d6a8fe0.jpg')\",\n",
    "    \"INSERT INTO package (id, agency_id, extended_excursion_id, duration, description, price, photo_url) VALUES (3, 33, 33, 5, 'Package 3', 300.0, 'https://s1.elespanol.com/2023/07/07/vivir/familias/777182736_234547697_1706x960.jpg')\",\n",
    "    \"INSERT INTO package (id, agency_id, extended_excursion_id, duration, description, price, photo_url) VALUES (4, 34, 34, 6, 'Package 4', 350.0, 'https://www.airelibre.es/blog/wp-content/uploads/2023/06/consejos-planificar-excursion-senderismo-inolvidable-924-1.png')\",\n",
    "    \"INSERT INTO package (id, agency_id, extended_excursion_id, duration, description, price, photo_url) VALUES (5, 35, 35, 7, 'Package 5', 400.0, 'https://imgcap.capturetheatlas.com/wp-content/uploads/2021/07/drais-beachclub-las-vegas-pool-for-adults.jpg')\",\n",
    "    \"INSERT INTO package (id, agency_id, extended_excursion_id, duration, description, price, photo_url) VALUES (6, 36, 36, 8, 'Package 6', 450.0, 'https://thegrand.moonpalace.com/club_nocturno_421b031d07.jpg')\",\n",
    "    \"INSERT INTO package (id, agency_id, extended_excursion_id, duration, description, price, photo_url) VALUES (7, 37, 37, 9, 'Package 7', 500.0, 'https://img.freepik.com/vector-premium/interior-club-nocturno-bar-pub_165488-4204.jpg')\",\n",
    "    \"INSERT INTO package (id, agency_id, extended_excursion_id, duration, description, price, photo_url) VALUES (8, 38, 38, 10, 'Package 8', 550.0, 'https://cdn.sortiraparis.com/images/80/1467/998330-les-champs-elysees-pietons-le-dimanche-7-janvier-2024.jpg')\",\n",
    "    \"INSERT INTO package (id, agency_id, extended_excursion_id, duration, description, price, photo_url) VALUES (9, 39, 39, 11, 'Package 9', 600.0, 'https://media.tacdn.com/media/attractions-splice-spp-674x446/0f/36/c2/60.jpg')\",\n",
    "    \"INSERT INTO package (id, agency_id, extended_excursion_id, duration, description, price, photo_url) VALUES (10, 40, 40, 12, 'Package 10', 650.0, 'https://www.excelenciascuba.com/sites/default/files/Article/Turismo-Habana-Vieja.jpg')\",\n",
    "    \"INSERT INTO package (id, agency_id, extended_excursion_id, duration, description, price, photo_url) VALUES (11, 41, 41, 13, 'Package 11', 700.0, 'https://blogskystorage.s3.amazonaws.com/2021/11/cosas-que-hacer-en-cancun.jpeg')\",\n",
    "    \"INSERT INTO package (id, agency_id, extended_excursion_id, duration, description, price, photo_url) VALUES (12, 42, 42, 14, 'Package 12', 750.0, 'https://www.mexicodesconocido.com.mx/wp-content/uploads/2010/06/xcaret-atractivos-riviera-maya.jpeg')\",\n",
    "    \"INSERT INTO package (id, agency_id, extended_excursion_id, duration, description, price, photo_url) VALUES (13, 43, 43, 15, 'Package 13', 800.0, 'https://s3.amazonaws.com/arc-wordpress-client-uploads/infobae-wp/wp-content/uploads/2017/05/31200109/iStock-522001766.jpg')\",\n",
    "    \"INSERT INTO package (id, agency_id, extended_excursion_id, duration, description, price, photo_url) VALUES (14, 44, 44, 16, 'Package 14', 850.0, 'https://i.pinimg.com/550x/e8/ea/6b/e8ea6b56bccabf607c16100074b0a39a.jpg')\",\n",
    "    \"INSERT INTO package (id, agency_id, extended_excursion_id, duration, description, price, photo_url) VALUES (15, 45, 45, 17, 'Package 15', 900.0, 'https://media-cdn.tripadvisor.com/media/photo-s/0e/7e/9b/ce/cancha-de-tenis.jpg')\"\n",
    "]\n"
   ]
  },
  {
   "cell_type": "code",
   "execution_count": 42,
   "metadata": {},
   "outputs": [
    {
     "name": "stdout",
     "output_type": "stream",
     "text": [
      "Se han insertado 30 registros en la tabla PackageModel utilizando SQL.\n"
     ]
    }
   ],
   "source": [
    "# Ejecutar las inserciones SQL\n",
    "with engine.connect() as connection:\n",
    "    for sql_insert in package_inserts:\n",
    "        connection.execute(text(sql_insert))\n",
    "    # Confirmar la transacción al finalizar las inserciones\n",
    "    connection.commit()\n",
    "\n",
    "print(\"Se han insertado 30 registros en la tabla PackageModel utilizando SQL.\")"
   ]
  },
  {
   "cell_type": "code",
   "execution_count": 67,
   "metadata": {},
   "outputs": [],
   "source": [
    "package_reservation_inserts = [\n",
    "    \"INSERT INTO package_reservation (tourist_id, package_id, reservation_date, amount_of_people, air_line) VALUES (16, 1, '2024-04-01', 2, 'Airline A')\",\n",
    "    \"INSERT INTO package_reservation (tourist_id, package_id, reservation_date, amount_of_people, air_line) VALUES (17, 2, '2024-04-02', 1, 'Airline B')\",\n",
    "    \"INSERT INTO package_reservation (tourist_id, package_id, reservation_date, amount_of_people, air_line) VALUES (18, 3, '2024-04-03', 3, 'Airline C')\",\n",
    "    \"INSERT INTO package_reservation (tourist_id, package_id, reservation_date, amount_of_people, air_line) VALUES (19, 4, '2024-04-04', 2, 'Airline D')\",\n",
    "    \"INSERT INTO package_reservation (tourist_id, package_id, reservation_date, amount_of_people, air_line) VALUES (20, 5, '2024-04-05', 1, 'Airline E')\"\n",
    "]\n"
   ]
  },
  {
   "cell_type": "code",
   "execution_count": 68,
   "metadata": {},
   "outputs": [
    {
     "name": "stdout",
     "output_type": "stream",
     "text": [
      "Se han insertado 5 registros en la tabla PackageReservation utilizando SQL.\n"
     ]
    }
   ],
   "source": [
    "# Ejecutar las inserciones SQL\n",
    "with engine.connect() as connection:\n",
    "    for sql_insert in package_reservation_inserts:\n",
    "        connection.execute(text(sql_insert))\n",
    "    # Confirmar la transacción al finalizar las inserciones\n",
    "    connection.commit()\n",
    "\n",
    "print(\"Se han insertado 5 registros en la tabla PackageReservation utilizando SQL.\")"
   ]
  },
  {
   "cell_type": "code",
   "execution_count": 43,
   "metadata": {},
   "outputs": [],
   "source": [
    "package_facility_association_inserts = [\n",
    "    \"INSERT INTO package_facility_association (package_id, facility_id) VALUES (1, 1)\",\n",
    "    \"INSERT INTO package_facility_association (package_id, facility_id) VALUES (1, 2)\",\n",
    "    \"INSERT INTO package_facility_association (package_id, facility_id) VALUES (1, 3)\",\n",
    "    \"INSERT INTO package_facility_association (package_id, facility_id) VALUES (1, 4)\",\n",
    "    \"INSERT INTO package_facility_association (package_id, facility_id) VALUES (1, 5)\",\n",
    "    \"INSERT INTO package_facility_association (package_id, facility_id) VALUES (2, 6)\",\n",
    "    \"INSERT INTO package_facility_association (package_id, facility_id) VALUES (2, 7)\",\n",
    "    \"INSERT INTO package_facility_association (package_id, facility_id) VALUES (2, 8)\",\n",
    "    \"INSERT INTO package_facility_association (package_id, facility_id) VALUES (2, 9)\",\n",
    "    \"INSERT INTO package_facility_association (package_id, facility_id) VALUES (2, 10)\",\n",
    "    \"INSERT INTO package_facility_association (package_id, facility_id) VALUES (3, 11)\",\n",
    "    \"INSERT INTO package_facility_association (package_id, facility_id) VALUES (3, 12)\",\n",
    "    \"INSERT INTO package_facility_association (package_id, facility_id) VALUES (3, 13)\",\n",
    "    \"INSERT INTO package_facility_association (package_id, facility_id) VALUES (3, 14)\",\n",
    "    \"INSERT INTO package_facility_association (package_id, facility_id) VALUES (3, 15)\",\n",
    "    \"INSERT INTO package_facility_association (package_id, facility_id) VALUES (4, 16)\",\n",
    "    \"INSERT INTO package_facility_association (package_id, facility_id) VALUES (4, 17)\",\n",
    "    \"INSERT INTO package_facility_association (package_id, facility_id) VALUES (4, 18)\",\n",
    "    \"INSERT INTO package_facility_association (package_id, facility_id) VALUES (4, 19)\",\n",
    "    \"INSERT INTO package_facility_association (package_id, facility_id) VALUES (4, 20)\",\n",
    "    \"INSERT INTO package_facility_association (package_id, facility_id) VALUES (5, 21)\",\n",
    "    \"INSERT INTO package_facility_association (package_id, facility_id) VALUES (5, 22)\",\n",
    "    \"INSERT INTO package_facility_association (package_id, facility_id) VALUES (5, 23)\",\n",
    "    \"INSERT INTO package_facility_association (package_id, facility_id) VALUES (5, 24)\",\n",
    "    \"INSERT INTO package_facility_association (package_id, facility_id) VALUES (5, 25)\",\n",
    "    \"INSERT INTO package_facility_association (package_id, facility_id) VALUES (6, 26)\",\n",
    "    \"INSERT INTO package_facility_association (package_id, facility_id) VALUES (6, 27)\",\n",
    "    \"INSERT INTO package_facility_association (package_id, facility_id) VALUES (6, 28)\",\n",
    "    \"INSERT INTO package_facility_association (package_id, facility_id) VALUES (6, 29)\",\n",
    "    \"INSERT INTO package_facility_association (package_id, facility_id) VALUES (6, 30)\"\n",
    "]"
   ]
  },
  {
   "cell_type": "code",
   "execution_count": 44,
   "metadata": {},
   "outputs": [
    {
     "name": "stdout",
     "output_type": "stream",
     "text": [
      "Se han insertado 30 registros en la tabla PackageFacilityAssociation utilizando SQL.\n"
     ]
    }
   ],
   "source": [
    "# Ejecutar las inserciones SQL\n",
    "with engine.connect() as connection:\n",
    "    for sql_insert in package_facility_association_inserts:\n",
    "        connection.execute(text(sql_insert))\n",
    "    # Confirmar la transacción al finalizar las inserciones\n",
    "    connection.commit()\n",
    "\n",
    "print(\"Se han insertado 30 registros en la tabla PackageFacilityAssociation utilizando SQL.\")"
   ]
  }
 ],
 "metadata": {
  "kernelspec": {
   "display_name": "Python 3",
   "language": "python",
   "name": "python3"
  },
  "language_info": {
   "codemirror_mode": {
    "name": "ipython",
    "version": 3
   },
   "file_extension": ".py",
   "mimetype": "text/x-python",
   "name": "python",
   "nbconvert_exporter": "python",
   "pygments_lexer": "ipython3",
   "version": "3.8.10"
  }
 },
 "nbformat": 4,
 "nbformat_minor": 2
}
